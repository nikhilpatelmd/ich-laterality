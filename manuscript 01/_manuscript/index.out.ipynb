{
 "cells": [
  {
   "cell_type": "markdown",
   "metadata": {},
   "source": [
    "# Does Hemispheric Lateralization Influence Aggressive Treatment in\n",
    "\n",
    "Patients with Intracerebral Hemorrhage?\n",
    "\n",
    "An Analysis of ATACH-2 and ERICH\n",
    "\n",
    "Nikhil Patel [![](data:image/png;base64,iVBORw0KGgoAAAANSUhEUgAAABAAAAAQCAYAAAAf8/9hAAAAGXRFWHRTb2Z0d2FyZQBBZG9iZSBJbWFnZVJlYWR5ccllPAAAA2ZpVFh0WE1MOmNvbS5hZG9iZS54bXAAAAAAADw/eHBhY2tldCBiZWdpbj0i77u/IiBpZD0iVzVNME1wQ2VoaUh6cmVTek5UY3prYzlkIj8+IDx4OnhtcG1ldGEgeG1sbnM6eD0iYWRvYmU6bnM6bWV0YS8iIHg6eG1wdGs9IkFkb2JlIFhNUCBDb3JlIDUuMC1jMDYwIDYxLjEzNDc3NywgMjAxMC8wMi8xMi0xNzozMjowMCAgICAgICAgIj4gPHJkZjpSREYgeG1sbnM6cmRmPSJodHRwOi8vd3d3LnczLm9yZy8xOTk5LzAyLzIyLXJkZi1zeW50YXgtbnMjIj4gPHJkZjpEZXNjcmlwdGlvbiByZGY6YWJvdXQ9IiIgeG1sbnM6eG1wTU09Imh0dHA6Ly9ucy5hZG9iZS5jb20veGFwLzEuMC9tbS8iIHhtbG5zOnN0UmVmPSJodHRwOi8vbnMuYWRvYmUuY29tL3hhcC8xLjAvc1R5cGUvUmVzb3VyY2VSZWYjIiB4bWxuczp4bXA9Imh0dHA6Ly9ucy5hZG9iZS5jb20veGFwLzEuMC8iIHhtcE1NOk9yaWdpbmFsRG9jdW1lbnRJRD0ieG1wLmRpZDo1N0NEMjA4MDI1MjA2ODExOTk0QzkzNTEzRjZEQTg1NyIgeG1wTU06RG9jdW1lbnRJRD0ieG1wLmRpZDozM0NDOEJGNEZGNTcxMUUxODdBOEVCODg2RjdCQ0QwOSIgeG1wTU06SW5zdGFuY2VJRD0ieG1wLmlpZDozM0NDOEJGM0ZGNTcxMUUxODdBOEVCODg2RjdCQ0QwOSIgeG1wOkNyZWF0b3JUb29sPSJBZG9iZSBQaG90b3Nob3AgQ1M1IE1hY2ludG9zaCI+IDx4bXBNTTpEZXJpdmVkRnJvbSBzdFJlZjppbnN0YW5jZUlEPSJ4bXAuaWlkOkZDN0YxMTc0MDcyMDY4MTE5NUZFRDc5MUM2MUUwNEREIiBzdFJlZjpkb2N1bWVudElEPSJ4bXAuZGlkOjU3Q0QyMDgwMjUyMDY4MTE5OTRDOTM1MTNGNkRBODU3Ii8+IDwvcmRmOkRlc2NyaXB0aW9uPiA8L3JkZjpSREY+IDwveDp4bXBtZXRhPiA8P3hwYWNrZXQgZW5kPSJyIj8+84NovQAAAR1JREFUeNpiZEADy85ZJgCpeCB2QJM6AMQLo4yOL0AWZETSqACk1gOxAQN+cAGIA4EGPQBxmJA0nwdpjjQ8xqArmczw5tMHXAaALDgP1QMxAGqzAAPxQACqh4ER6uf5MBlkm0X4EGayMfMw/Pr7Bd2gRBZogMFBrv01hisv5jLsv9nLAPIOMnjy8RDDyYctyAbFM2EJbRQw+aAWw/LzVgx7b+cwCHKqMhjJFCBLOzAR6+lXX84xnHjYyqAo5IUizkRCwIENQQckGSDGY4TVgAPEaraQr2a4/24bSuoExcJCfAEJihXkWDj3ZAKy9EJGaEo8T0QSxkjSwORsCAuDQCD+QILmD1A9kECEZgxDaEZhICIzGcIyEyOl2RkgwAAhkmC+eAm0TAAAAABJRU5ErkJggg==)](https://orcid.org/0000-0002-3193-8590) (Department of Neurology, Wake Forest University School of Medicine)  \n",
    "Matt Jaffa (Department of Neurology, University of Connecticut School of Medicine)  \n",
    "Rahul Karamchandani (Department of Neurology, Wake Forest University School of Medicine)  \n",
    "March 6, 2024\n",
    "\n",
    "Hemispheric laterality blah blah blah"
   ],
   "id": "7b60e0eb-b121-4c4f-8217-851cba86de03"
  },
  {
   "cell_type": "code",
   "execution_count": null,
   "metadata": {},
   "outputs": [
    {
     "output_type": "stream",
     "name": "stderr",
     "text": [
      "\n",
      "Attaching package: 'dplyr'"
     ]
    },
    {
     "output_type": "stream",
     "name": "stderr",
     "text": [
      "The following objects are masked from 'package:stats':\n",
      "\n",
      "    filter, lag"
     ]
    },
    {
     "output_type": "stream",
     "name": "stderr",
     "text": [
      "The following objects are masked from 'package:base':\n",
      "\n",
      "    intersect, setdiff, setequal, union"
     ]
    },
    {
     "output_type": "stream",
     "name": "stderr",
     "text": [
      "here() starts at /home/nikhil/Documents/GitHub/ich-laterality"
     ]
    }
   ],
   "source": [
    "library(targets)\n",
    "library(dplyr)"
   ],
   "id": "c79b72ea-cbf3-41fe-b1e4-e983905bfdf9"
  },
  {
   "cell_type": "markdown",
   "metadata": {},
   "source": [
    "## Introduction\n",
    "\n",
    "The clinical presentation of patients with stroke can vary based on the hemisphere affected, in particular with language, spatial orientation, and emotional processing. Previous research involving patients with ischemic stroke provide evidence that those with right hemispheric injury present later to the hospital and may not be treated as frequently with thrombolytic therapy.<sup>[1](#ref-legge_neglecting_2006),[2](#ref-di_legge_impact_2005-1)</sup> On the other hand, there is a hesitation among some practitioners to offer decompressive craniectomy in patients with dominant-hemispheric infarcts.<sup>[3](#ref-lin_decompressive_2021-1)</sup>\n",
    "\n",
    "It is unclear how previous research in the ischemic stroke population translates to patients experiencing intracerebral hemorrhage. Not much has been investigated.\n",
    "\n",
    "We aimed to evaluate the effect of hemispheric lateralization on the probability of receiving aggressive care in patients with ICH.\n",
    "\n",
    "## Methods\n",
    "\n",
    "### Study Design and Participants\n",
    "\n",
    "We conducted a cohort study using data from 2 prospective studies: the Antihypertensive Treatment of Acute Cerebral Hemorrhage II (ATACH-2) trial<sup>[4](#ref-qureshi_intensive_2016)</sup> and the Ethnic/Racial Variations of Intracerebral Hemorrhage (ERICH)<sup>[5](#ref-woo_ethnicracial_2013)</sup> study. ATACH-2 was a large, multicenter, international, open-label, blinded-endpoint randomized controlled trial enrolling 1000 patients with ICH while ERICH was a large, multicenter, prospective observational study enrolling patients in the United States admitted with ICH. Study protocols and results of both studies have been previously published and are available elsewhere.\n",
    "\n",
    "We included all patients enrolled in these two studies with supratentorial location of ICH. We excluded patients with cerebellar or brainstem ICH as well as any patient with primary intraventricular hemorrhage (IVH).\n",
    "\n",
    "The study was approved by the institutional review board of the Wake Forest School of Medicine.\n",
    "\n",
    "#### Data Availability Statement\n",
    "\n",
    "The ATACH-2 (PI: Adnan I. Qureshi, MD, NCT01176565) and ERICH (PI: Daniel Woo, MD, MS, NCT01202864) data and analyses presented in this manuscript are based on the research files downloaded from the Archived Clinical Research web site of the National Institute of Neurologic Disease and Stroke (NINDS). The datasets can be obtained after approval of a written proposal as outlined on the NINDS website.\n",
    "\n",
    "The analysis code is publicly available as outlined by the NINDS Data Request Agreement at <https://github.com/nikhilpatelmd/ich-laterality>.\n",
    "\n",
    "### Exposures and Outcomes\n",
    "\n",
    "Our exposure was hemispheric laterality (left versus right). Our primary outcome was neurosurgical intervention, defined as receiving a hematoma evacuation, decompressive craniectomy, or other craniotomy.\n",
    "\n",
    "To explore differences in other aspects of aggressive care, we defined several secondary outcomes: receipt of external ventricular drain (EVD), tracheostomy, percutaneous endoscopic gastrostomy (PEG) tube, do-not-resuscitate (DNR) order at any point in the hospitalization, withdrawal of life-sustaining therapy (WLST) at any point in the hospitalization, and early WLST (\\< 72 from symptom onset).\n",
    "\n",
    "### Statistical Analysis\n",
    "\n",
    "#### Overall Analysis Plan\n",
    "\n",
    "## Results\n",
    "\n",
    "A total of 3477 patients were included in the analysis."
   ],
   "id": "bd76cebf-34b9-4fcd-b6e5-2cd5711717c5"
  },
  {
   "cell_type": "code",
   "execution_count": null,
   "metadata": {},
   "outputs": [
    {
     "output_type": "stream",
     "name": "stderr",
     "text": [
      "#StandWithUkraine"
     ]
    },
    {
     "output_type": "stream",
     "name": "stderr",
     "text": [
      "Setting theme `Compact`"
     ]
    },
    {
     "output_type": "display_data",
     "metadata": {},
     "data": {
      "text/html": [
       "\n",
       "</div>"
      ]
     }
    }
   ],
   "source": [
    "library(gtsummary)"
   ],
   "id": "2590b896-db9c-47a1-93c0-613571fdab3b"
  },
  {
   "cell_type": "markdown",
   "metadata": {},
   "source": [
    "## Acknowledgments\n",
    "\n",
    "## References\n",
    "\n",
    "<span class=\"csl-left-margin\">1. </span><span class=\"csl-right-inline\">Legge SD, Saposnik G, Nilanont Y, Hachinski V. [Neglecting the Difference](https://doi.org/10.1161/01.STR.0000229899.66019.62). *Stroke*. 2006;37(8):2066–2069.</span>\n",
    "\n",
    "<span class=\"csl-left-margin\">2. </span><span class=\"csl-right-inline\">Di Legge S, Fang J, Saposnik G, Hachinski V. [The impact of lesion side on acute stroke treatment](https://doi.org/10.1212/01.wnl.0000167608.94237.aa). *Neurology*. 2005;65(1):81–86.</span>\n",
    "\n",
    "<span class=\"csl-left-margin\">3. </span><span class=\"csl-right-inline\">Lin J, Frontera JA. [Decompressive Hemicraniectomy for Large Hemispheric Strokes](https://doi.org/10.1161/STROKEAHA.120.032359). *Stroke*. 2021;52(4):1500–1510.</span>\n",
    "\n",
    "<span class=\"csl-left-margin\">4. </span><span class=\"csl-right-inline\">Qureshi AI, Palesch YY, Barsan WG, Hanley DF, Hsu CY, Martin RL, Moy CS, Silbergleit R, Steiner T, Suarez JI, Toyoda K, Wang Y, Yamamoto H, Yoon B-W. [Intensive Blood-Pressure Lowering in Patients with Acute Cerebral Hemorrhage](https://doi.org/10.1056/NEJMoa1603460). *New England Journal of Medicine*. 2016;375(11):1033–1043.</span>\n",
    "\n",
    "<span class=\"csl-left-margin\">5. </span><span class=\"csl-right-inline\">Woo D, Rosand J, Kidwell C, McCauley JL, Osborne J, Brown MW, West SE, Rademacher EW, Waddy S, Roberts JN, Koch S, Gonzales NR, Sung G, Kittner SJ, Birnbaum L, et al. [The Ethnic/Racial Variations of Intracerebral Hemorrhage (ERICH) Study Protocol](https://doi.org/10.1161/STROKEAHA.113.002332). *Stroke*. 2013;44(10).</span>"
   ],
   "id": "2eac6680-686d-4c38-9b1f-4f563471c608"
  }
 ],
 "nbformat": 4,
 "nbformat_minor": 5,
 "metadata": {}
}
