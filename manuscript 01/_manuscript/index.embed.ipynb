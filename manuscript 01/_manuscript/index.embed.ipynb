{
 "cells": [
  {
   "cell_type": "markdown",
   "metadata": {},
   "source": [
    "# Patients with Left Hemispheric Intracerebral Hemorrhage are Less\n",
    "\n",
    "Likely to Receive Neurosurgical Intervention\n",
    "\n",
    "A Bayesian Analysis of ATACH-2 and ERICH\n",
    "\n",
    "Nikhil Patel [![](data:image/png;base64,iVBORw0KGgoAAAANSUhEUgAAABAAAAAQCAYAAAAf8/9hAAAAGXRFWHRTb2Z0d2FyZQBBZG9iZSBJbWFnZVJlYWR5ccllPAAAA2ZpVFh0WE1MOmNvbS5hZG9iZS54bXAAAAAAADw/eHBhY2tldCBiZWdpbj0i77u/IiBpZD0iVzVNME1wQ2VoaUh6cmVTek5UY3prYzlkIj8+IDx4OnhtcG1ldGEgeG1sbnM6eD0iYWRvYmU6bnM6bWV0YS8iIHg6eG1wdGs9IkFkb2JlIFhNUCBDb3JlIDUuMC1jMDYwIDYxLjEzNDc3NywgMjAxMC8wMi8xMi0xNzozMjowMCAgICAgICAgIj4gPHJkZjpSREYgeG1sbnM6cmRmPSJodHRwOi8vd3d3LnczLm9yZy8xOTk5LzAyLzIyLXJkZi1zeW50YXgtbnMjIj4gPHJkZjpEZXNjcmlwdGlvbiByZGY6YWJvdXQ9IiIgeG1sbnM6eG1wTU09Imh0dHA6Ly9ucy5hZG9iZS5jb20veGFwLzEuMC9tbS8iIHhtbG5zOnN0UmVmPSJodHRwOi8vbnMuYWRvYmUuY29tL3hhcC8xLjAvc1R5cGUvUmVzb3VyY2VSZWYjIiB4bWxuczp4bXA9Imh0dHA6Ly9ucy5hZG9iZS5jb20veGFwLzEuMC8iIHhtcE1NOk9yaWdpbmFsRG9jdW1lbnRJRD0ieG1wLmRpZDo1N0NEMjA4MDI1MjA2ODExOTk0QzkzNTEzRjZEQTg1NyIgeG1wTU06RG9jdW1lbnRJRD0ieG1wLmRpZDozM0NDOEJGNEZGNTcxMUUxODdBOEVCODg2RjdCQ0QwOSIgeG1wTU06SW5zdGFuY2VJRD0ieG1wLmlpZDozM0NDOEJGM0ZGNTcxMUUxODdBOEVCODg2RjdCQ0QwOSIgeG1wOkNyZWF0b3JUb29sPSJBZG9iZSBQaG90b3Nob3AgQ1M1IE1hY2ludG9zaCI+IDx4bXBNTTpEZXJpdmVkRnJvbSBzdFJlZjppbnN0YW5jZUlEPSJ4bXAuaWlkOkZDN0YxMTc0MDcyMDY4MTE5NUZFRDc5MUM2MUUwNEREIiBzdFJlZjpkb2N1bWVudElEPSJ4bXAuZGlkOjU3Q0QyMDgwMjUyMDY4MTE5OTRDOTM1MTNGNkRBODU3Ii8+IDwvcmRmOkRlc2NyaXB0aW9uPiA8L3JkZjpSREY+IDwveDp4bXBtZXRhPiA8P3hwYWNrZXQgZW5kPSJyIj8+84NovQAAAR1JREFUeNpiZEADy85ZJgCpeCB2QJM6AMQLo4yOL0AWZETSqACk1gOxAQN+cAGIA4EGPQBxmJA0nwdpjjQ8xqArmczw5tMHXAaALDgP1QMxAGqzAAPxQACqh4ER6uf5MBlkm0X4EGayMfMw/Pr7Bd2gRBZogMFBrv01hisv5jLsv9nLAPIOMnjy8RDDyYctyAbFM2EJbRQw+aAWw/LzVgx7b+cwCHKqMhjJFCBLOzAR6+lXX84xnHjYyqAo5IUizkRCwIENQQckGSDGY4TVgAPEaraQr2a4/24bSuoExcJCfAEJihXkWDj3ZAKy9EJGaEo8T0QSxkjSwORsCAuDQCD+QILmD1A9kECEZgxDaEZhICIzGcIyEyOl2RkgwAAhkmC+eAm0TAAAAABJRU5ErkJggg==)](https://orcid.org/0000-0002-3193-8590) (Department of Neurology, Wake Forest University School of Medicine)  \n",
    "Matt Jaffa (Department of Neurology, University of Connecticut School of Medicine)  \n",
    "Rahul Karamchandani (Department of Neurology, Wake Forest University School of Medicine)  \n",
    "Andrew Asimos (Department of Emergency Medicine, Wake Forest University School of Medicine)  \n",
    "Jonathan Parish (Carolina Neurosurgery & Spine Associates)  \n",
    "Nicholas Allen Morris (Department of Neurology, University of Maryland School of Medicine)  \n",
    "March 8, 2024\n",
    "\n",
    "Hemispheric laterality blah blah blah"
   ],
   "id": "8bb0559d-1b00-4fc6-8198-8a368f31ba17"
  },
  {
   "cell_type": "code",
   "execution_count": null,
   "metadata": {},
   "outputs": [
    {
     "output_type": "stream",
     "name": "stderr",
     "text": [
      "── Attaching core tidyverse packages ──────────────────────── tidyverse 2.0.0 ──\n",
      "✔ dplyr     1.1.4     ✔ readr     2.1.5\n",
      "✔ forcats   1.0.0     ✔ stringr   1.5.1\n",
      "✔ ggplot2   3.5.0     ✔ tibble    3.2.1\n",
      "✔ lubridate 1.9.3     ✔ tidyr     1.3.1\n",
      "✔ purrr     1.0.2     \n",
      "── Conflicts ────────────────────────────────────────── tidyverse_conflicts() ──\n",
      "✖ dplyr::filter() masks stats::filter()\n",
      "✖ dplyr::lag()    masks stats::lag()\n",
      "ℹ Use the conflicted package (<http://conflicted.r-lib.org/>) to force all conflicts to become errors"
     ]
    },
    {
     "output_type": "stream",
     "name": "stderr",
     "text": [
      "here() starts at /home/nikhil/Documents/GitHub/ich-laterality"
     ]
    },
    {
     "output_type": "stream",
     "name": "stderr",
     "text": [
      "\n",
      "Attaching package: 'gt'\n",
      "\n",
      "The following object is masked from 'package:formattable':\n",
      "\n",
      "    currency"
     ]
    },
    {
     "output_type": "stream",
     "name": "stderr",
     "text": [
      "#StandWithUkraine"
     ]
    },
    {
     "output_type": "stream",
     "name": "stderr",
     "text": [
      "`modelsummary` 2.0.0 uses `tinytable` as its default table-drawing\n",
      "  package. Learn more at:\n",
      "  \n",
      "  https://vincentarelbundock.github.io/tinytable/\n",
      "  \n",
      "  You can revert to `kableExtra` or other backend for one session or\n",
      "  persistently with:\n",
      "  \n",
      "  options(modelsummary_factory_default = 'kableExtra')\n",
      "  config_modelsummary(factory_default = 'gt')"
     ]
    },
    {
     "output_type": "stream",
     "name": "stderr",
     "text": [
      "This is bayesplot version 1.11.1\n",
      "- Online documentation and vignettes at mc-stan.org/bayesplot\n",
      "- bayesplot theme set to bayesplot::theme_default()\n",
      "   * Does _not_ affect other ggplot2 plots\n",
      "   * See ?bayesplot_theme_set for details on theme setting"
     ]
    },
    {
     "output_type": "stream",
     "name": "stderr",
     "text": [
      "\n",
      "Attaching package: 'patchwork'\n",
      "\n",
      "The following object is masked from 'package:formattable':\n",
      "\n",
      "    area"
     ]
    },
    {
     "output_type": "stream",
     "name": "stderr",
     "text": [
      "\n",
      "Attaching package: 'flextable'\n",
      "\n",
      "The following objects are masked from 'package:gtsummary':\n",
      "\n",
      "    as_flextable, continuous_summary\n",
      "\n",
      "The following object is masked from 'package:formattable':\n",
      "\n",
      "    style\n",
      "\n",
      "The following object is masked from 'package:purrr':\n",
      "\n",
      "    compose"
     ]
    }
   ],
   "source": [
    "library(targets)\n",
    "library(tidyverse)"
   ],
   "id": "e7ff2bd2-c971-474e-80ed-f7f9ecd078d5"
  },
  {
   "cell_type": "markdown",
   "metadata": {},
   "source": [
    "## Introduction\n",
    "\n",
    "The clinical presentation of patients with stroke can vary based on the hemisphere affected, in particular with language, spatial orientation, and emotional processing. Previous research involving patients with ischemic stroke provide evidence that those with right hemispheric injury present later to the hospital and may not be treated as frequently with thrombolytic therapy.\\[@legge_neglecting_2006; @di_legge_impact_2005\\] On the other hand, there is a hesitation among some practitioners to offer decompressive craniectomy in patients with dominant-hemispheric infarcts. \\[@lin_decompressive_2021-1\\]\n",
    "\n",
    "It is unclear how previous research in the ischemic stroke population translates to patients experiencing intracerebral hemorrhage. Not much has been investigated.\n",
    "\n",
    "We aimed to evaluate the effect of hemispheric lateralization on the probability of receiving aggressive care in patients with ICH.\n",
    "\n",
    "## Methods\n",
    "\n",
    "### Study Design and Participants\n",
    "\n",
    "We conducted a cohort study using data from 2 prospective studies: the Antihypertensive Treatment of Acute Cerebral Hemorrhage II (ATACH-2) trial \\[@qureshi_intensive_2016\\] and the Ethnic/Racial Variations of Intracerebral Hemorrhage (ERICH)\\[@woo_ethnicracial_2013\\] study. ATACH-2 was a large, multicenter, international, open-label, blinded-endpoint randomized controlled trial enrolling 1000 patients with ICH while ERICH was a large, multicenter, prospective observational study enrolling patients in the United States admitted with ICH. Study protocols and results of both studies have been previously published and are available elsewhere.\n",
    "\n",
    "We included all patients enrolled in these two studies with supratentorial location of ICH. We excluded patients with cerebellar or brainstem ICH as well as any patient with primary intraventricular hemorrhage (IVH).\n",
    "\n",
    "The study was approved by the institutional review board of the Wake Forest School of Medicine.\n",
    "\n",
    "#### Data Availability Statement\n",
    "\n",
    "The ATACH-2 (PI: Adnan I. Qureshi, MD, NCT01176565) and ERICH (PI: Daniel Woo, MD, MS, NCT01202864) data and analyses presented in this manuscript are based on the research files downloaded from the Archived Clinical Research web site of the National Institute of Neurologic Disease and Stroke (NINDS). The datasets can be obtained after approval of a written proposal as outlined on the NINDS website.\n",
    "\n",
    "As outlined in the NINDS Data Request Agreement, the analysis code is publicly available at <https://github.com/nikhilpatelmd/ich-laterality>.\n",
    "\n",
    "### Exposures and Outcomes\n",
    "\n",
    "Our exposure was hemispheric laterality (left versus right). Our primary outcome was neurosurgical intervention, defined as receiving a hematoma evacuation, decompressive craniectomy, or other craniotomy.\n",
    "\n",
    "To explore differences in other aspects of aggressive care, we defined several secondary outcomes: receipt of external ventricular drain (EVD), tracheostomy, percutaneous endoscopic gastrostomy (PEG) tube, do-not-resuscitate (DNR) order at any point in the hospitalization, withdrawal of life-sustaining therapy (WLST) at any point in the hospitalization, and early WLST (\\< 72 from symptom onset).\n",
    "\n",
    "### Statistical Analysis\n",
    "\n",
    "#### Overall Analysis Plan\n",
    "\n",
    "## Results\n",
    "\n",
    "### Baseline Characteristics\n",
    "\n",
    "A total of 3477 patients were included in the analysis, of which 1720 (49.5%) had left hemispheric ICH. They had higher NIHSS scores, higher GCS scores, and lower rates of hypertension as compared to those with right hemispheric ICH (@tbl-1)."
   ],
   "id": "4129da6e-af35-414b-b6c9-f392b4412e5d"
  },
  {
   "cell_type": "code",
   "execution_count": null,
   "metadata": {},
   "outputs": [
    {
     "output_type": "display_data",
     "metadata": {},
     "data": {
      "text/html": [
       "<div class=\"tabwid\"><style>.cl-4e3c6e5c{}.cl-4e34b8d8{font-family:'Figtree';font-size:11pt;font-weight:bold;font-style:normal;text-decoration:none;color:rgba(0, 0, 0, 1.00);background-color:transparent;}.cl-4e34b8e2{font-family:'Figtree';font-size:6.6pt;font-weight:bold;font-style:normal;text-decoration:none;color:rgba(0, 0, 0, 1.00);background-color:transparent;position: relative;bottom:3.3pt;}.cl-4e34b8e3{font-family:'Figtree';font-size:10pt;font-weight:bold;font-style:normal;text-decoration:none;color:rgba(0, 0, 0, 1.00);background-color:transparent;}.cl-4e34b8ec{font-family:'Figtree';font-size:10pt;font-weight:normal;font-style:normal;text-decoration:none;color:rgba(0, 0, 0, 1.00);background-color:transparent;}.cl-4e37bc7c{margin:0;text-align:left;border-bottom: 0 solid rgba(0, 0, 0, 1.00);border-top: 0 solid rgba(0, 0, 0, 1.00);border-left: 0 solid rgba(0, 0, 0, 1.00);border-right: 0 solid rgba(0, 0, 0, 1.00);padding-bottom:4pt;padding-top:4pt;padding-left:4pt;padding-right:4pt;line-height: 1.25;background-color:transparent;}.cl-4e37bc90{margin:0;text-align:left;border-bottom: 0 solid rgba(0, 0, 0, 1.00);border-top: 0 solid rgba(0, 0, 0, 1.00);border-left: 0 solid rgba(0, 0, 0, 1.00);border-right: 0 solid rgba(0, 0, 0, 1.00);padding-bottom:4pt;padding-top:4pt;padding-left:4pt;padding-right:4pt;line-height: 1.25;background-color:transparent;}.cl-4e37d158{width:3.113in;background-color:rgba(207, 207, 207, 1.00);vertical-align: middle;border-bottom: 0 solid rgba(0, 0, 0, 1.00);border-top: 0 solid rgba(0, 0, 0, 1.00);border-left: 0 solid rgba(0, 0, 0, 1.00);border-right: 0 solid rgba(0, 0, 0, 1.00);margin-bottom:0;margin-top:0;margin-left:0;margin-right:0;}.cl-4e37d162{width:1.775in;background-color:rgba(207, 207, 207, 1.00);vertical-align: middle;border-bottom: 0 solid rgba(0, 0, 0, 1.00);border-top: 0 solid rgba(0, 0, 0, 1.00);border-left: 0 solid rgba(0, 0, 0, 1.00);border-right: 0 solid rgba(0, 0, 0, 1.00);margin-bottom:0;margin-top:0;margin-left:0;margin-right:0;}.cl-4e37d163{width:1.5in;background-color:rgba(207, 207, 207, 1.00);vertical-align: middle;border-bottom: 0 solid rgba(0, 0, 0, 1.00);border-top: 0 solid rgba(0, 0, 0, 1.00);border-left: 0 solid rgba(0, 0, 0, 1.00);border-right: 0 solid rgba(0, 0, 0, 1.00);margin-bottom:0;margin-top:0;margin-left:0;margin-right:0;}.cl-4e37d16c{width:1.62in;background-color:rgba(207, 207, 207, 1.00);vertical-align: middle;border-bottom: 0 solid rgba(0, 0, 0, 1.00);border-top: 0 solid rgba(0, 0, 0, 1.00);border-left: 0 solid rgba(0, 0, 0, 1.00);border-right: 0 solid rgba(0, 0, 0, 1.00);margin-bottom:0;margin-top:0;margin-left:0;margin-right:0;}.cl-4e37d16d{width:0.925in;background-color:rgba(207, 207, 207, 1.00);vertical-align: middle;border-bottom: 0 solid rgba(0, 0, 0, 1.00);border-top: 0 solid rgba(0, 0, 0, 1.00);border-left: 0 solid rgba(0, 0, 0, 1.00);border-right: 0 solid rgba(0, 0, 0, 1.00);margin-bottom:0;margin-top:0;margin-left:0;margin-right:0;}.cl-4e37d16e{width:3.113in;background-color:rgba(239, 239, 239, 1.00);vertical-align: top;border-bottom: 0 solid rgba(0, 0, 0, 1.00);border-top: 0 solid rgba(0, 0, 0, 1.00);border-left: 0 solid rgba(0, 0, 0, 1.00);border-right: 0 solid rgba(0, 0, 0, 1.00);margin-bottom:0;margin-top:0;margin-left:0;margin-right:0;}.cl-4e37d16f{width:1.775in;background-color:rgba(239, 239, 239, 1.00);vertical-align: top;border-bottom: 0 solid rgba(0, 0, 0, 1.00);border-top: 0 solid rgba(0, 0, 0, 1.00);border-left: 0 solid rgba(0, 0, 0, 1.00);border-right: 0 solid rgba(0, 0, 0, 1.00);margin-bottom:0;margin-top:0;margin-left:0;margin-right:0;}.cl-4e37d176{width:1.5in;background-color:rgba(239, 239, 239, 1.00);vertical-align: top;border-bottom: 0 solid rgba(0, 0, 0, 1.00);border-top: 0 solid rgba(0, 0, 0, 1.00);border-left: 0 solid rgba(0, 0, 0, 1.00);border-right: 0 solid rgba(0, 0, 0, 1.00);margin-bottom:0;margin-top:0;margin-left:0;margin-right:0;}.cl-4e37d177{width:1.62in;background-color:rgba(239, 239, 239, 1.00);vertical-align: top;border-bottom: 0 solid rgba(0, 0, 0, 1.00);border-top: 0 solid rgba(0, 0, 0, 1.00);border-left: 0 solid rgba(0, 0, 0, 1.00);border-right: 0 solid rgba(0, 0, 0, 1.00);margin-bottom:0;margin-top:0;margin-left:0;margin-right:0;}.cl-4e37d178{width:0.925in;background-color:rgba(239, 239, 239, 1.00);vertical-align: top;border-bottom: 0 solid rgba(0, 0, 0, 1.00);border-top: 0 solid rgba(0, 0, 0, 1.00);border-left: 0 solid rgba(0, 0, 0, 1.00);border-right: 0 solid rgba(0, 0, 0, 1.00);margin-bottom:0;margin-top:0;margin-left:0;margin-right:0;}.cl-4e37d180{width:3.113in;background-color:transparent;vertical-align: top;border-bottom: 0 solid rgba(0, 0, 0, 1.00);border-top: 0 solid rgba(0, 0, 0, 1.00);border-left: 0 solid rgba(0, 0, 0, 1.00);border-right: 0 solid rgba(0, 0, 0, 1.00);margin-bottom:0;margin-top:0;margin-left:0;margin-right:0;}.cl-4e37d181{width:1.775in;background-color:transparent;vertical-align: top;border-bottom: 0 solid rgba(0, 0, 0, 1.00);border-top: 0 solid rgba(0, 0, 0, 1.00);border-left: 0 solid rgba(0, 0, 0, 1.00);border-right: 0 solid rgba(0, 0, 0, 1.00);margin-bottom:0;margin-top:0;margin-left:0;margin-right:0;}.cl-4e37d18a{width:1.5in;background-color:transparent;vertical-align: top;border-bottom: 0 solid rgba(0, 0, 0, 1.00);border-top: 0 solid rgba(0, 0, 0, 1.00);border-left: 0 solid rgba(0, 0, 0, 1.00);border-right: 0 solid rgba(0, 0, 0, 1.00);margin-bottom:0;margin-top:0;margin-left:0;margin-right:0;}.cl-4e37d18b{width:1.62in;background-color:transparent;vertical-align: top;border-bottom: 0 solid rgba(0, 0, 0, 1.00);border-top: 0 solid rgba(0, 0, 0, 1.00);border-left: 0 solid rgba(0, 0, 0, 1.00);border-right: 0 solid rgba(0, 0, 0, 1.00);margin-bottom:0;margin-top:0;margin-left:0;margin-right:0;}.cl-4e37d194{width:0.925in;background-color:transparent;vertical-align: top;border-bottom: 0 solid rgba(0, 0, 0, 1.00);border-top: 0 solid rgba(0, 0, 0, 1.00);border-left: 0 solid rgba(0, 0, 0, 1.00);border-right: 0 solid rgba(0, 0, 0, 1.00);margin-bottom:0;margin-top:0;margin-left:0;margin-right:0;}.cl-4e37d195{width:3.113in;background-color:rgba(239, 239, 239, 1.00);vertical-align: top;border-bottom: 0 solid rgba(0, 0, 0, 1.00);border-top: 0 solid rgba(0, 0, 0, 1.00);border-left: 0 solid rgba(0, 0, 0, 1.00);border-right: 0 solid rgba(0, 0, 0, 1.00);margin-bottom:0;margin-top:0;margin-left:0;margin-right:0;}.cl-4e37d196{width:1.775in;background-color:rgba(239, 239, 239, 1.00);vertical-align: top;border-bottom: 0 solid rgba(0, 0, 0, 1.00);border-top: 0 solid rgba(0, 0, 0, 1.00);border-left: 0 solid rgba(0, 0, 0, 1.00);border-right: 0 solid rgba(0, 0, 0, 1.00);margin-bottom:0;margin-top:0;margin-left:0;margin-right:0;}.cl-4e37d19e{width:1.5in;background-color:rgba(239, 239, 239, 1.00);vertical-align: top;border-bottom: 0 solid rgba(0, 0, 0, 1.00);border-top: 0 solid rgba(0, 0, 0, 1.00);border-left: 0 solid rgba(0, 0, 0, 1.00);border-right: 0 solid rgba(0, 0, 0, 1.00);margin-bottom:0;margin-top:0;margin-left:0;margin-right:0;}.cl-4e37d19f{width:1.62in;background-color:rgba(239, 239, 239, 1.00);vertical-align: top;border-bottom: 0 solid rgba(0, 0, 0, 1.00);border-top: 0 solid rgba(0, 0, 0, 1.00);border-left: 0 solid rgba(0, 0, 0, 1.00);border-right: 0 solid rgba(0, 0, 0, 1.00);margin-bottom:0;margin-top:0;margin-left:0;margin-right:0;}.cl-4e37d1a0{width:0.925in;background-color:rgba(239, 239, 239, 1.00);vertical-align: top;border-bottom: 0 solid rgba(0, 0, 0, 1.00);border-top: 0 solid rgba(0, 0, 0, 1.00);border-left: 0 solid rgba(0, 0, 0, 1.00);border-right: 0 solid rgba(0, 0, 0, 1.00);margin-bottom:0;margin-top:0;margin-left:0;margin-right:0;}.cl-4e37d1a8{width:3.113in;background-color:transparent;vertical-align: top;border-bottom: 0 solid rgba(0, 0, 0, 1.00);border-top: 0 solid rgba(0, 0, 0, 1.00);border-left: 0 solid rgba(0, 0, 0, 1.00);border-right: 0 solid rgba(0, 0, 0, 1.00);margin-bottom:0;margin-top:0;margin-left:0;margin-right:0;}.cl-4e37d1a9{width:1.775in;background-color:transparent;vertical-align: top;border-bottom: 0 solid rgba(0, 0, 0, 1.00);border-top: 0 solid rgba(0, 0, 0, 1.00);border-left: 0 solid rgba(0, 0, 0, 1.00);border-right: 0 solid rgba(0, 0, 0, 1.00);margin-bottom:0;margin-top:0;margin-left:0;margin-right:0;}.cl-4e37d1aa{width:1.5in;background-color:transparent;vertical-align: top;border-bottom: 0 solid rgba(0, 0, 0, 1.00);border-top: 0 solid rgba(0, 0, 0, 1.00);border-left: 0 solid rgba(0, 0, 0, 1.00);border-right: 0 solid rgba(0, 0, 0, 1.00);margin-bottom:0;margin-top:0;margin-left:0;margin-right:0;}.cl-4e37d1b2{width:1.62in;background-color:transparent;vertical-align: top;border-bottom: 0 solid rgba(0, 0, 0, 1.00);border-top: 0 solid rgba(0, 0, 0, 1.00);border-left: 0 solid rgba(0, 0, 0, 1.00);border-right: 0 solid rgba(0, 0, 0, 1.00);margin-bottom:0;margin-top:0;margin-left:0;margin-right:0;}.cl-4e37d1b3{width:0.925in;background-color:transparent;vertical-align: top;border-bottom: 0 solid rgba(0, 0, 0, 1.00);border-top: 0 solid rgba(0, 0, 0, 1.00);border-left: 0 solid rgba(0, 0, 0, 1.00);border-right: 0 solid rgba(0, 0, 0, 1.00);margin-bottom:0;margin-top:0;margin-left:0;margin-right:0;}.cl-4e37d1bc{width:3.113in;background-color:rgba(239, 239, 239, 1.00);vertical-align: top;border-bottom: 0 solid rgba(0, 0, 0, 1.00);border-top: 0 solid rgba(0, 0, 0, 1.00);border-left: 0 solid rgba(0, 0, 0, 1.00);border-right: 0 solid rgba(0, 0, 0, 1.00);margin-bottom:0;margin-top:0;margin-left:0;margin-right:0;}.cl-4e37d1bd{width:1.775in;background-color:rgba(239, 239, 239, 1.00);vertical-align: top;border-bottom: 0 solid rgba(0, 0, 0, 1.00);border-top: 0 solid rgba(0, 0, 0, 1.00);border-left: 0 solid rgba(0, 0, 0, 1.00);border-right: 0 solid rgba(0, 0, 0, 1.00);margin-bottom:0;margin-top:0;margin-left:0;margin-right:0;}.cl-4e37d1be{width:1.5in;background-color:rgba(239, 239, 239, 1.00);vertical-align: top;border-bottom: 0 solid rgba(0, 0, 0, 1.00);border-top: 0 solid rgba(0, 0, 0, 1.00);border-left: 0 solid rgba(0, 0, 0, 1.00);border-right: 0 solid rgba(0, 0, 0, 1.00);margin-bottom:0;margin-top:0;margin-left:0;margin-right:0;}.cl-4e37d1c6{width:1.62in;background-color:rgba(239, 239, 239, 1.00);vertical-align: top;border-bottom: 0 solid rgba(0, 0, 0, 1.00);border-top: 0 solid rgba(0, 0, 0, 1.00);border-left: 0 solid rgba(0, 0, 0, 1.00);border-right: 0 solid rgba(0, 0, 0, 1.00);margin-bottom:0;margin-top:0;margin-left:0;margin-right:0;}.cl-4e37d1c7{width:0.925in;background-color:rgba(239, 239, 239, 1.00);vertical-align: top;border-bottom: 0 solid rgba(0, 0, 0, 1.00);border-top: 0 solid rgba(0, 0, 0, 1.00);border-left: 0 solid rgba(0, 0, 0, 1.00);border-right: 0 solid rgba(0, 0, 0, 1.00);margin-bottom:0;margin-top:0;margin-left:0;margin-right:0;}.cl-4e37d1c8{width:3.113in;background-color:rgba(239, 239, 239, 1.00);vertical-align: top;border-bottom: 0 solid rgba(0, 0, 0, 1.00);border-top: 0 solid rgba(0, 0, 0, 1.00);border-left: 0 solid rgba(0, 0, 0, 1.00);border-right: 0 solid rgba(0, 0, 0, 1.00);margin-bottom:0;margin-top:0;margin-left:0;margin-right:0;}.cl-4e37d1d0{width:1.775in;background-color:rgba(239, 239, 239, 1.00);vertical-align: top;border-bottom: 0 solid rgba(0, 0, 0, 1.00);border-top: 0 solid rgba(0, 0, 0, 1.00);border-left: 0 solid rgba(0, 0, 0, 1.00);border-right: 0 solid rgba(0, 0, 0, 1.00);margin-bottom:0;margin-top:0;margin-left:0;margin-right:0;}.cl-4e37d1d1{width:1.5in;background-color:rgba(239, 239, 239, 1.00);vertical-align: top;border-bottom: 0 solid rgba(0, 0, 0, 1.00);border-top: 0 solid rgba(0, 0, 0, 1.00);border-left: 0 solid rgba(0, 0, 0, 1.00);border-right: 0 solid rgba(0, 0, 0, 1.00);margin-bottom:0;margin-top:0;margin-left:0;margin-right:0;}.cl-4e37d1da{width:1.62in;background-color:rgba(239, 239, 239, 1.00);vertical-align: top;border-bottom: 0 solid rgba(0, 0, 0, 1.00);border-top: 0 solid rgba(0, 0, 0, 1.00);border-left: 0 solid rgba(0, 0, 0, 1.00);border-right: 0 solid rgba(0, 0, 0, 1.00);margin-bottom:0;margin-top:0;margin-left:0;margin-right:0;}.cl-4e37d1db{width:0.925in;background-color:rgba(239, 239, 239, 1.00);vertical-align: top;border-bottom: 0 solid rgba(0, 0, 0, 1.00);border-top: 0 solid rgba(0, 0, 0, 1.00);border-left: 0 solid rgba(0, 0, 0, 1.00);border-right: 0 solid rgba(0, 0, 0, 1.00);margin-bottom:0;margin-top:0;margin-left:0;margin-right:0;}.cl-4e37d1e4{width:3.113in;background-color:transparent;vertical-align: top;border-bottom: 0 solid rgba(0, 0, 0, 1.00);border-top: 0 solid rgba(0, 0, 0, 1.00);border-left: 0 solid rgba(0, 0, 0, 1.00);border-right: 0 solid rgba(0, 0, 0, 1.00);margin-bottom:0;margin-top:0;margin-left:0;margin-right:0;}.cl-4e37d1e5{width:1.775in;background-color:transparent;vertical-align: top;border-bottom: 0 solid rgba(0, 0, 0, 1.00);border-top: 0 solid rgba(0, 0, 0, 1.00);border-left: 0 solid rgba(0, 0, 0, 1.00);border-right: 0 solid rgba(0, 0, 0, 1.00);margin-bottom:0;margin-top:0;margin-left:0;margin-right:0;}.cl-4e37d1e6{width:1.5in;background-color:transparent;vertical-align: top;border-bottom: 0 solid rgba(0, 0, 0, 1.00);border-top: 0 solid rgba(0, 0, 0, 1.00);border-left: 0 solid rgba(0, 0, 0, 1.00);border-right: 0 solid rgba(0, 0, 0, 1.00);margin-bottom:0;margin-top:0;margin-left:0;margin-right:0;}.cl-4e37d1ee{width:1.62in;background-color:transparent;vertical-align: top;border-bottom: 0 solid rgba(0, 0, 0, 1.00);border-top: 0 solid rgba(0, 0, 0, 1.00);border-left: 0 solid rgba(0, 0, 0, 1.00);border-right: 0 solid rgba(0, 0, 0, 1.00);margin-bottom:0;margin-top:0;margin-left:0;margin-right:0;}.cl-4e37d1ef{width:0.925in;background-color:transparent;vertical-align: top;border-bottom: 0 solid rgba(0, 0, 0, 1.00);border-top: 0 solid rgba(0, 0, 0, 1.00);border-left: 0 solid rgba(0, 0, 0, 1.00);border-right: 0 solid rgba(0, 0, 0, 1.00);margin-bottom:0;margin-top:0;margin-left:0;margin-right:0;}.cl-4e37d1f0{width:3.113in;background-color:rgba(239, 239, 239, 1.00);vertical-align: top;border-bottom: 0 solid rgba(0, 0, 0, 1.00);border-top: 0 solid rgba(0, 0, 0, 1.00);border-left: 0 solid rgba(0, 0, 0, 1.00);border-right: 0 solid rgba(0, 0, 0, 1.00);margin-bottom:0;margin-top:0;margin-left:0;margin-right:0;}.cl-4e37d1f1{width:1.775in;background-color:rgba(239, 239, 239, 1.00);vertical-align: top;border-bottom: 0 solid rgba(0, 0, 0, 1.00);border-top: 0 solid rgba(0, 0, 0, 1.00);border-left: 0 solid rgba(0, 0, 0, 1.00);border-right: 0 solid rgba(0, 0, 0, 1.00);margin-bottom:0;margin-top:0;margin-left:0;margin-right:0;}.cl-4e37d1f8{width:1.5in;background-color:rgba(239, 239, 239, 1.00);vertical-align: top;border-bottom: 0 solid rgba(0, 0, 0, 1.00);border-top: 0 solid rgba(0, 0, 0, 1.00);border-left: 0 solid rgba(0, 0, 0, 1.00);border-right: 0 solid rgba(0, 0, 0, 1.00);margin-bottom:0;margin-top:0;margin-left:0;margin-right:0;}.cl-4e37d1f9{width:1.62in;background-color:rgba(239, 239, 239, 1.00);vertical-align: top;border-bottom: 0 solid rgba(0, 0, 0, 1.00);border-top: 0 solid rgba(0, 0, 0, 1.00);border-left: 0 solid rgba(0, 0, 0, 1.00);border-right: 0 solid rgba(0, 0, 0, 1.00);margin-bottom:0;margin-top:0;margin-left:0;margin-right:0;}.cl-4e37d202{width:0.925in;background-color:rgba(239, 239, 239, 1.00);vertical-align: top;border-bottom: 0 solid rgba(0, 0, 0, 1.00);border-top: 0 solid rgba(0, 0, 0, 1.00);border-left: 0 solid rgba(0, 0, 0, 1.00);border-right: 0 solid rgba(0, 0, 0, 1.00);margin-bottom:0;margin-top:0;margin-left:0;margin-right:0;}.cl-4e37d203{width:3.113in;background-color:rgba(239, 239, 239, 1.00);vertical-align: top;border-bottom: 0 solid rgba(0, 0, 0, 1.00);border-top: 0 solid rgba(0, 0, 0, 1.00);border-left: 0 solid rgba(0, 0, 0, 1.00);border-right: 0 solid rgba(0, 0, 0, 1.00);margin-bottom:0;margin-top:0;margin-left:0;margin-right:0;}.cl-4e37d20c{width:1.775in;background-color:rgba(239, 239, 239, 1.00);vertical-align: top;border-bottom: 0 solid rgba(0, 0, 0, 1.00);border-top: 0 solid rgba(0, 0, 0, 1.00);border-left: 0 solid rgba(0, 0, 0, 1.00);border-right: 0 solid rgba(0, 0, 0, 1.00);margin-bottom:0;margin-top:0;margin-left:0;margin-right:0;}.cl-4e37d20d{width:1.5in;background-color:rgba(239, 239, 239, 1.00);vertical-align: top;border-bottom: 0 solid rgba(0, 0, 0, 1.00);border-top: 0 solid rgba(0, 0, 0, 1.00);border-left: 0 solid rgba(0, 0, 0, 1.00);border-right: 0 solid rgba(0, 0, 0, 1.00);margin-bottom:0;margin-top:0;margin-left:0;margin-right:0;}.cl-4e37d20e{width:1.62in;background-color:rgba(239, 239, 239, 1.00);vertical-align: top;border-bottom: 0 solid rgba(0, 0, 0, 1.00);border-top: 0 solid rgba(0, 0, 0, 1.00);border-left: 0 solid rgba(0, 0, 0, 1.00);border-right: 0 solid rgba(0, 0, 0, 1.00);margin-bottom:0;margin-top:0;margin-left:0;margin-right:0;}.cl-4e37d216{width:0.925in;background-color:rgba(239, 239, 239, 1.00);vertical-align: top;border-bottom: 0 solid rgba(0, 0, 0, 1.00);border-top: 0 solid rgba(0, 0, 0, 1.00);border-left: 0 solid rgba(0, 0, 0, 1.00);border-right: 0 solid rgba(0, 0, 0, 1.00);margin-bottom:0;margin-top:0;margin-left:0;margin-right:0;}.cl-4e37d217{width:3.113in;background-color:rgba(207, 207, 207, 1.00);vertical-align: middle;border-bottom: 0 solid rgba(0, 0, 0, 1.00);border-top: 0 solid rgba(0, 0, 0, 1.00);border-left: 0 solid rgba(0, 0, 0, 1.00);border-right: 0 solid rgba(0, 0, 0, 1.00);margin-bottom:0;margin-top:0;margin-left:0;margin-right:0;}.cl-4e37d218{width:1.775in;background-color:rgba(207, 207, 207, 1.00);vertical-align: middle;border-bottom: 0 solid rgba(0, 0, 0, 1.00);border-top: 0 solid rgba(0, 0, 0, 1.00);border-left: 0 solid rgba(0, 0, 0, 1.00);border-right: 0 solid rgba(0, 0, 0, 1.00);margin-bottom:0;margin-top:0;margin-left:0;margin-right:0;}.cl-4e37d219{width:1.5in;background-color:rgba(207, 207, 207, 1.00);vertical-align: middle;border-bottom: 0 solid rgba(0, 0, 0, 1.00);border-top: 0 solid rgba(0, 0, 0, 1.00);border-left: 0 solid rgba(0, 0, 0, 1.00);border-right: 0 solid rgba(0, 0, 0, 1.00);margin-bottom:0;margin-top:0;margin-left:0;margin-right:0;}.cl-4e37d220{width:1.62in;background-color:rgba(207, 207, 207, 1.00);vertical-align: middle;border-bottom: 0 solid rgba(0, 0, 0, 1.00);border-top: 0 solid rgba(0, 0, 0, 1.00);border-left: 0 solid rgba(0, 0, 0, 1.00);border-right: 0 solid rgba(0, 0, 0, 1.00);margin-bottom:0;margin-top:0;margin-left:0;margin-right:0;}.cl-4e37d221{width:0.925in;background-color:rgba(207, 207, 207, 1.00);vertical-align: middle;border-bottom: 0 solid rgba(0, 0, 0, 1.00);border-top: 0 solid rgba(0, 0, 0, 1.00);border-left: 0 solid rgba(0, 0, 0, 1.00);border-right: 0 solid rgba(0, 0, 0, 1.00);margin-bottom:0;margin-top:0;margin-left:0;margin-right:0;}.cl-4e37d222{width:3.113in;background-color:transparent;vertical-align: middle;border-bottom: 0 solid rgba(0, 0, 0, 1.00);border-top: 0 solid rgba(0, 0, 0, 1.00);border-left: 0 solid rgba(0, 0, 0, 1.00);border-right: 0 solid rgba(0, 0, 0, 1.00);margin-bottom:0;margin-top:0;margin-left:0;margin-right:0;}.cl-4e37d22a{width:1.775in;background-color:transparent;vertical-align: middle;border-bottom: 0 solid rgba(0, 0, 0, 1.00);border-top: 0 solid rgba(0, 0, 0, 1.00);border-left: 0 solid rgba(0, 0, 0, 1.00);border-right: 0 solid rgba(0, 0, 0, 1.00);margin-bottom:0;margin-top:0;margin-left:0;margin-right:0;}.cl-4e37d22b{width:1.5in;background-color:transparent;vertical-align: middle;border-bottom: 0 solid rgba(0, 0, 0, 1.00);border-top: 0 solid rgba(0, 0, 0, 1.00);border-left: 0 solid rgba(0, 0, 0, 1.00);border-right: 0 solid rgba(0, 0, 0, 1.00);margin-bottom:0;margin-top:0;margin-left:0;margin-right:0;}.cl-4e37d234{width:1.62in;background-color:transparent;vertical-align: middle;border-bottom: 0 solid rgba(0, 0, 0, 1.00);border-top: 0 solid rgba(0, 0, 0, 1.00);border-left: 0 solid rgba(0, 0, 0, 1.00);border-right: 0 solid rgba(0, 0, 0, 1.00);margin-bottom:0;margin-top:0;margin-left:0;margin-right:0;}.cl-4e37d235{width:0.925in;background-color:transparent;vertical-align: middle;border-bottom: 0 solid rgba(0, 0, 0, 1.00);border-top: 0 solid rgba(0, 0, 0, 1.00);border-left: 0 solid rgba(0, 0, 0, 1.00);border-right: 0 solid rgba(0, 0, 0, 1.00);margin-bottom:0;margin-top:0;margin-left:0;margin-right:0;}</style><table data-quarto-disable-processing='true' class='cl-4e3c6e5c'><thead><tr style=\"overflow-wrap:break-word;\"><th class=\"cl-4e37d158\"><p class=\"cl-4e37bc7c\"><span class=\"cl-4e34b8d8\"></span></p></th><th class=\"cl-4e37d162\"><p class=\"cl-4e37bc7c\"><span class=\"cl-4e34b8d8\">Overall</span><span class=\"cl-4e34b8d8\">, N = 3,477</span><span class=\"cl-4e34b8e2\">1</span></p></th><th class=\"cl-4e37d163\"><p class=\"cl-4e37bc7c\"><span class=\"cl-4e34b8d8\">Left</span><span class=\"cl-4e34b8d8\">, N = 1,720</span><span class=\"cl-4e34b8e2\">1</span></p></th><th class=\"cl-4e37d16c\"><p class=\"cl-4e37bc7c\"><span class=\"cl-4e34b8d8\">Right</span><span class=\"cl-4e34b8d8\">, N = 1,757</span><span class=\"cl-4e34b8e2\">1</span></p></th><th class=\"cl-4e37d16d\"><p class=\"cl-4e37bc7c\"><span class=\"cl-4e34b8d8\">p-value</span><span class=\"cl-4e34b8e2\">2</span></p></th></tr></thead><tbody><tr style=\"overflow-wrap:break-word;\"><td class=\"cl-4e37d16e\"><p class=\"cl-4e37bc90\"><span class=\"cl-4e34b8e3\">Age</span></p></td><td class=\"cl-4e37d16f\"><p class=\"cl-4e37bc90\"><span class=\"cl-4e34b8ec\">61 (52, 73)</span></p></td><td class=\"cl-4e37d176\"><p class=\"cl-4e37bc90\"><span class=\"cl-4e34b8ec\">61 (52, 72)</span></p></td><td class=\"cl-4e37d177\"><p class=\"cl-4e37bc90\"><span class=\"cl-4e34b8ec\">61 (52, 73)</span></p></td><td class=\"cl-4e37d178\"><p class=\"cl-4e37bc90\"><span class=\"cl-4e34b8ec\">0.91</span></p></td></tr><tr style=\"overflow-wrap:break-word;\"><td class=\"cl-4e37d180\"><p class=\"cl-4e37bc90\"><span class=\"cl-4e34b8e3\">Sex</span></p></td><td class=\"cl-4e37d181\"><p class=\"cl-4e37bc90\"><span class=\"cl-4e34b8ec\"></span></p></td><td class=\"cl-4e37d18a\"><p class=\"cl-4e37bc90\"><span class=\"cl-4e34b8ec\"></span></p></td><td class=\"cl-4e37d18b\"><p class=\"cl-4e37bc90\"><span class=\"cl-4e34b8ec\"></span></p></td><td class=\"cl-4e37d194\"><p class=\"cl-4e37bc90\"><span class=\"cl-4e34b8ec\">0.12</span></p></td></tr><tr style=\"overflow-wrap:break-word;\"><td class=\"cl-4e37d195\"><p class=\"cl-4e37bc90\"><span class=\"cl-4e34b8ec\">Male</span></p></td><td class=\"cl-4e37d196\"><p class=\"cl-4e37bc90\"><span class=\"cl-4e34b8ec\">2,081 (60%)</span></p></td><td class=\"cl-4e37d19e\"><p class=\"cl-4e37bc90\"><span class=\"cl-4e34b8ec\">1,007 (59%)</span></p></td><td class=\"cl-4e37d19f\"><p class=\"cl-4e37bc90\"><span class=\"cl-4e34b8ec\">1,074 (61%)</span></p></td><td class=\"cl-4e37d1a0\"><p class=\"cl-4e37bc90\"><span class=\"cl-4e34b8ec\"></span></p></td></tr><tr style=\"overflow-wrap:break-word;\"><td class=\"cl-4e37d1a8\"><p class=\"cl-4e37bc90\"><span class=\"cl-4e34b8ec\">Female</span></p></td><td class=\"cl-4e37d1a9\"><p class=\"cl-4e37bc90\"><span class=\"cl-4e34b8ec\">1,396 (40%)</span></p></td><td class=\"cl-4e37d1aa\"><p class=\"cl-4e37bc90\"><span class=\"cl-4e34b8ec\">713 (41%)</span></p></td><td class=\"cl-4e37d1b2\"><p class=\"cl-4e37bc90\"><span class=\"cl-4e34b8ec\">683 (39%)</span></p></td><td class=\"cl-4e37d1b3\"><p class=\"cl-4e37bc90\"><span class=\"cl-4e34b8ec\"></span></p></td></tr><tr style=\"overflow-wrap:break-word;\"><td class=\"cl-4e37d1bc\"><p class=\"cl-4e37bc90\"><span class=\"cl-4e34b8e3\">Race</span></p></td><td class=\"cl-4e37d1bd\"><p class=\"cl-4e37bc90\"><span class=\"cl-4e34b8ec\"></span></p></td><td class=\"cl-4e37d1be\"><p class=\"cl-4e37bc90\"><span class=\"cl-4e34b8ec\"></span></p></td><td class=\"cl-4e37d1c6\"><p class=\"cl-4e37bc90\"><span class=\"cl-4e34b8ec\"></span></p></td><td class=\"cl-4e37d1c7\"><p class=\"cl-4e37bc90\"><span class=\"cl-4e34b8ec\">0.59</span></p></td></tr><tr style=\"overflow-wrap:break-word;\"><td class=\"cl-4e37d1a8\"><p class=\"cl-4e37bc90\"><span class=\"cl-4e34b8ec\">White</span></p></td><td class=\"cl-4e37d1a9\"><p class=\"cl-4e37bc90\"><span class=\"cl-4e34b8ec\">1,875 (54%)</span></p></td><td class=\"cl-4e37d1aa\"><p class=\"cl-4e37bc90\"><span class=\"cl-4e34b8ec\">935 (54%)</span></p></td><td class=\"cl-4e37d1b2\"><p class=\"cl-4e37bc90\"><span class=\"cl-4e34b8ec\">940 (54%)</span></p></td><td class=\"cl-4e37d1b3\"><p class=\"cl-4e37bc90\"><span class=\"cl-4e34b8ec\"></span></p></td></tr><tr style=\"overflow-wrap:break-word;\"><td class=\"cl-4e37d195\"><p class=\"cl-4e37bc90\"><span class=\"cl-4e34b8ec\">Black or African-American</span></p></td><td class=\"cl-4e37d196\"><p class=\"cl-4e37bc90\"><span class=\"cl-4e34b8ec\">1,022 (29%)</span></p></td><td class=\"cl-4e37d19e\"><p class=\"cl-4e37bc90\"><span class=\"cl-4e34b8ec\">510 (30%)</span></p></td><td class=\"cl-4e37d19f\"><p class=\"cl-4e37bc90\"><span class=\"cl-4e34b8ec\">512 (29%)</span></p></td><td class=\"cl-4e37d1a0\"><p class=\"cl-4e37bc90\"><span class=\"cl-4e34b8ec\"></span></p></td></tr><tr style=\"overflow-wrap:break-word;\"><td class=\"cl-4e37d1a8\"><p class=\"cl-4e37bc90\"><span class=\"cl-4e34b8ec\">Asian</span></p></td><td class=\"cl-4e37d1a9\"><p class=\"cl-4e37bc90\"><span class=\"cl-4e34b8ec\">557 (16%)</span></p></td><td class=\"cl-4e37d1aa\"><p class=\"cl-4e37bc90\"><span class=\"cl-4e34b8ec\">263 (15%)</span></p></td><td class=\"cl-4e37d1b2\"><p class=\"cl-4e37bc90\"><span class=\"cl-4e34b8ec\">294 (17%)</span></p></td><td class=\"cl-4e37d1b3\"><p class=\"cl-4e37bc90\"><span class=\"cl-4e34b8ec\"></span></p></td></tr><tr style=\"overflow-wrap:break-word;\"><td class=\"cl-4e37d1c8\"><p class=\"cl-4e37bc90\"><span class=\"cl-4e34b8ec\">Other/Not Reported</span></p></td><td class=\"cl-4e37d1d0\"><p class=\"cl-4e37bc90\"><span class=\"cl-4e34b8ec\">16 (0.5%)</span></p></td><td class=\"cl-4e37d1d1\"><p class=\"cl-4e37bc90\"><span class=\"cl-4e34b8ec\">7 (0.4%)</span></p></td><td class=\"cl-4e37d1da\"><p class=\"cl-4e37bc90\"><span class=\"cl-4e34b8ec\">9 (0.5%)</span></p></td><td class=\"cl-4e37d1db\"><p class=\"cl-4e37bc90\"><span class=\"cl-4e34b8ec\"></span></p></td></tr><tr style=\"overflow-wrap:break-word;\"><td class=\"cl-4e37d1a8\"><p class=\"cl-4e37bc90\"><span class=\"cl-4e34b8ec\">American Indian or Alaskan Native</span></p></td><td class=\"cl-4e37d1a9\"><p class=\"cl-4e37bc90\"><span class=\"cl-4e34b8ec\">7 (0.2%)</span></p></td><td class=\"cl-4e37d1aa\"><p class=\"cl-4e37bc90\"><span class=\"cl-4e34b8ec\">5 (0.3%)</span></p></td><td class=\"cl-4e37d1b2\"><p class=\"cl-4e37bc90\"><span class=\"cl-4e34b8ec\">2 (0.1%)</span></p></td><td class=\"cl-4e37d1b3\"><p class=\"cl-4e37bc90\"><span class=\"cl-4e34b8ec\"></span></p></td></tr><tr style=\"overflow-wrap:break-word;\"><td class=\"cl-4e37d1c8\"><p class=\"cl-4e37bc90\"><span class=\"cl-4e34b8e3\">Ethnicity</span></p></td><td class=\"cl-4e37d1d0\"><p class=\"cl-4e37bc90\"><span class=\"cl-4e34b8ec\"></span></p></td><td class=\"cl-4e37d1d1\"><p class=\"cl-4e37bc90\"><span class=\"cl-4e34b8ec\"></span></p></td><td class=\"cl-4e37d1da\"><p class=\"cl-4e37bc90\"><span class=\"cl-4e34b8ec\"></span></p></td><td class=\"cl-4e37d1db\"><p class=\"cl-4e37bc90\"><span class=\"cl-4e34b8ec\">0.42</span></p></td></tr><tr style=\"overflow-wrap:break-word;\"><td class=\"cl-4e37d1e4\"><p class=\"cl-4e37bc90\"><span class=\"cl-4e34b8ec\">Not Hispanic or Latino</span></p></td><td class=\"cl-4e37d1e5\"><p class=\"cl-4e37bc90\"><span class=\"cl-4e34b8ec\">2,296 (66%)</span></p></td><td class=\"cl-4e37d1e6\"><p class=\"cl-4e37bc90\"><span class=\"cl-4e34b8ec\">1,141 (66%)</span></p></td><td class=\"cl-4e37d1ee\"><p class=\"cl-4e37bc90\"><span class=\"cl-4e34b8ec\">1,155 (66%)</span></p></td><td class=\"cl-4e37d1ef\"><p class=\"cl-4e37bc90\"><span class=\"cl-4e34b8ec\"></span></p></td></tr><tr style=\"overflow-wrap:break-word;\"><td class=\"cl-4e37d1c8\"><p class=\"cl-4e37bc90\"><span class=\"cl-4e34b8ec\">Unknown/Not Reported</span></p></td><td class=\"cl-4e37d1d0\"><p class=\"cl-4e37bc90\"><span class=\"cl-4e34b8ec\">1,052 (30%)</span></p></td><td class=\"cl-4e37d1d1\"><p class=\"cl-4e37bc90\"><span class=\"cl-4e34b8ec\">509 (30%)</span></p></td><td class=\"cl-4e37d1da\"><p class=\"cl-4e37bc90\"><span class=\"cl-4e34b8ec\">543 (31%)</span></p></td><td class=\"cl-4e37d1db\"><p class=\"cl-4e37bc90\"><span class=\"cl-4e34b8ec\"></span></p></td></tr><tr style=\"overflow-wrap:break-word;\"><td class=\"cl-4e37d1e4\"><p class=\"cl-4e37bc90\"><span class=\"cl-4e34b8ec\">Hispanic or Latino</span></p></td><td class=\"cl-4e37d1e5\"><p class=\"cl-4e37bc90\"><span class=\"cl-4e34b8ec\">129 (3.7%)</span></p></td><td class=\"cl-4e37d1e6\"><p class=\"cl-4e37bc90\"><span class=\"cl-4e34b8ec\">70 (4.1%)</span></p></td><td class=\"cl-4e37d1ee\"><p class=\"cl-4e37bc90\"><span class=\"cl-4e34b8ec\">59 (3.4%)</span></p></td><td class=\"cl-4e37d1ef\"><p class=\"cl-4e37bc90\"><span class=\"cl-4e34b8ec\"></span></p></td></tr><tr style=\"overflow-wrap:break-word;\"><td class=\"cl-4e37d1f0\"><p class=\"cl-4e37bc90\"><span class=\"cl-4e34b8e3\">LNW to ED Presentation (mins)</span></p></td><td class=\"cl-4e37d1f1\"><p class=\"cl-4e37bc90\"><span class=\"cl-4e34b8ec\">78 (60, 180)</span></p></td><td class=\"cl-4e37d1f8\"><p class=\"cl-4e37bc90\"><span class=\"cl-4e34b8ec\">74 (60, 180)</span></p></td><td class=\"cl-4e37d1f9\"><p class=\"cl-4e37bc90\"><span class=\"cl-4e34b8ec\">83 (59, 180)</span></p></td><td class=\"cl-4e37d202\"><p class=\"cl-4e37bc90\"><span class=\"cl-4e34b8ec\">0.20</span></p></td></tr><tr style=\"overflow-wrap:break-word;\"><td class=\"cl-4e37d1e4\"><p class=\"cl-4e37bc90\"><span class=\"cl-4e34b8e3\">Baseline SBP (mm Hg)</span></p></td><td class=\"cl-4e37d1e5\"><p class=\"cl-4e37bc90\"><span class=\"cl-4e34b8ec\">190 (165, 215)</span></p></td><td class=\"cl-4e37d1e6\"><p class=\"cl-4e37bc90\"><span class=\"cl-4e34b8ec\">190 (165, 216)</span></p></td><td class=\"cl-4e37d1ee\"><p class=\"cl-4e37bc90\"><span class=\"cl-4e34b8ec\">190 (165, 214)</span></p></td><td class=\"cl-4e37d1ef\"><p class=\"cl-4e37bc90\"><span class=\"cl-4e34b8ec\">0.34</span></p></td></tr><tr style=\"overflow-wrap:break-word;\"><td class=\"cl-4e37d195\"><p class=\"cl-4e37bc90\"><span class=\"cl-4e34b8e3\">Baseline NIHSS</span></p></td><td class=\"cl-4e37d196\"><p class=\"cl-4e37bc90\"><span class=\"cl-4e34b8ec\">11 (6, 16)</span></p></td><td class=\"cl-4e37d19e\"><p class=\"cl-4e37bc90\"><span class=\"cl-4e34b8ec\">11 (6, 17)</span></p></td><td class=\"cl-4e37d19f\"><p class=\"cl-4e37bc90\"><span class=\"cl-4e34b8ec\">11 (7, 14)</span></p></td><td class=\"cl-4e37d1a0\"><p class=\"cl-4e37bc90\"><span class=\"cl-4e34b8ec\">0.014</span></p></td></tr><tr style=\"overflow-wrap:break-word;\"><td class=\"cl-4e37d1a8\"><p class=\"cl-4e37bc90\"><span class=\"cl-4e34b8e3\">Baseline GCS</span></p></td><td class=\"cl-4e37d1a9\"><p class=\"cl-4e37bc90\"><span class=\"cl-4e34b8ec\">15 (12, 15)</span></p></td><td class=\"cl-4e37d1aa\"><p class=\"cl-4e37bc90\"><span class=\"cl-4e34b8ec\">14 (11, 15)</span></p></td><td class=\"cl-4e37d1b2\"><p class=\"cl-4e37bc90\"><span class=\"cl-4e34b8ec\">15 (13, 15)</span></p></td><td class=\"cl-4e37d1b3\"><p class=\"cl-4e37bc90\"><span class=\"cl-4e34b8ec\">&lt;0.001</span></p></td></tr><tr style=\"overflow-wrap:break-word;\"><td class=\"cl-4e37d1c8\"><p class=\"cl-4e37bc90\"><span class=\"cl-4e34b8e3\">Hypertension</span></p></td><td class=\"cl-4e37d1d0\"><p class=\"cl-4e37bc90\"><span class=\"cl-4e34b8ec\">784 (23%)</span></p></td><td class=\"cl-4e37d1d1\"><p class=\"cl-4e37bc90\"><span class=\"cl-4e34b8ec\">366 (21%)</span></p></td><td class=\"cl-4e37d1da\"><p class=\"cl-4e37bc90\"><span class=\"cl-4e34b8ec\">418 (24%)</span></p></td><td class=\"cl-4e37d1db\"><p class=\"cl-4e37bc90\"><span class=\"cl-4e34b8ec\">0.076</span></p></td></tr><tr style=\"overflow-wrap:break-word;\"><td class=\"cl-4e37d1e4\"><p class=\"cl-4e37bc90\"><span class=\"cl-4e34b8e3\">Type II Diabetes</span></p></td><td class=\"cl-4e37d1e5\"><p class=\"cl-4e37bc90\"><span class=\"cl-4e34b8ec\">705 (20%)</span></p></td><td class=\"cl-4e37d1e6\"><p class=\"cl-4e37bc90\"><span class=\"cl-4e34b8ec\">348 (20%)</span></p></td><td class=\"cl-4e37d1ee\"><p class=\"cl-4e37bc90\"><span class=\"cl-4e34b8ec\">357 (20%)</span></p></td><td class=\"cl-4e37d1ef\"><p class=\"cl-4e37bc90\"><span class=\"cl-4e34b8ec\">0.95</span></p></td></tr><tr style=\"overflow-wrap:break-word;\"><td class=\"cl-4e37d195\"><p class=\"cl-4e37bc90\"><span class=\"cl-4e34b8e3\">Previous Stroke</span></p></td><td class=\"cl-4e37d196\"><p class=\"cl-4e37bc90\"><span class=\"cl-4e34b8ec\">583 (17%)</span></p></td><td class=\"cl-4e37d19e\"><p class=\"cl-4e37bc90\"><span class=\"cl-4e34b8ec\">293 (17%)</span></p></td><td class=\"cl-4e37d19f\"><p class=\"cl-4e37bc90\"><span class=\"cl-4e34b8ec\">290 (17%)</span></p></td><td class=\"cl-4e37d1a0\"><p class=\"cl-4e37bc90\"><span class=\"cl-4e34b8ec\">0.68</span></p></td></tr><tr style=\"overflow-wrap:break-word;\"><td class=\"cl-4e37d1a8\"><p class=\"cl-4e37bc90\"><span class=\"cl-4e34b8e3\">Tobacco Use</span></p></td><td class=\"cl-4e37d1a9\"><p class=\"cl-4e37bc90\"><span class=\"cl-4e34b8ec\">1,361 (39%)</span></p></td><td class=\"cl-4e37d1aa\"><p class=\"cl-4e37bc90\"><span class=\"cl-4e34b8ec\">663 (39%)</span></p></td><td class=\"cl-4e37d1b2\"><p class=\"cl-4e37bc90\"><span class=\"cl-4e34b8ec\">698 (40%)</span></p></td><td class=\"cl-4e37d1b3\"><p class=\"cl-4e37bc90\"><span class=\"cl-4e34b8ec\">0.48</span></p></td></tr><tr style=\"overflow-wrap:break-word;\"><td class=\"cl-4e37d203\"><p class=\"cl-4e37bc90\"><span class=\"cl-4e34b8e3\">ICH Location</span></p></td><td class=\"cl-4e37d20c\"><p class=\"cl-4e37bc90\"><span class=\"cl-4e34b8ec\"></span></p></td><td class=\"cl-4e37d20d\"><p class=\"cl-4e37bc90\"><span class=\"cl-4e34b8ec\"></span></p></td><td class=\"cl-4e37d20e\"><p class=\"cl-4e37bc90\"><span class=\"cl-4e34b8ec\"></span></p></td><td class=\"cl-4e37d216\"><p class=\"cl-4e37bc90\"><span class=\"cl-4e34b8ec\">0.002</span></p></td></tr><tr style=\"overflow-wrap:break-word;\"><td class=\"cl-4e37d1e4\"><p class=\"cl-4e37bc90\"><span class=\"cl-4e34b8ec\">Basal Ganglia</span></p></td><td class=\"cl-4e37d1e5\"><p class=\"cl-4e37bc90\"><span class=\"cl-4e34b8ec\">1,304 (38%)</span></p></td><td class=\"cl-4e37d1e6\"><p class=\"cl-4e37bc90\"><span class=\"cl-4e34b8ec\">688 (40%)</span></p></td><td class=\"cl-4e37d1ee\"><p class=\"cl-4e37bc90\"><span class=\"cl-4e34b8ec\">616 (35%)</span></p></td><td class=\"cl-4e37d1ef\"><p class=\"cl-4e37bc90\"><span class=\"cl-4e34b8ec\"></span></p></td></tr><tr style=\"overflow-wrap:break-word;\"><td class=\"cl-4e37d195\"><p class=\"cl-4e37bc90\"><span class=\"cl-4e34b8ec\">Thalamus</span></p></td><td class=\"cl-4e37d196\"><p class=\"cl-4e37bc90\"><span class=\"cl-4e34b8ec\">1,157 (33%)</span></p></td><td class=\"cl-4e37d19e\"><p class=\"cl-4e37bc90\"><span class=\"cl-4e34b8ec\">527 (31%)</span></p></td><td class=\"cl-4e37d19f\"><p class=\"cl-4e37bc90\"><span class=\"cl-4e34b8ec\">630 (36%)</span></p></td><td class=\"cl-4e37d1a0\"><p class=\"cl-4e37bc90\"><span class=\"cl-4e34b8ec\"></span></p></td></tr><tr style=\"overflow-wrap:break-word;\"><td class=\"cl-4e37d1a8\"><p class=\"cl-4e37bc90\"><span class=\"cl-4e34b8ec\">Lobar</span></p></td><td class=\"cl-4e37d1a9\"><p class=\"cl-4e37bc90\"><span class=\"cl-4e34b8ec\">1,016 (29%)</span></p></td><td class=\"cl-4e37d1aa\"><p class=\"cl-4e37bc90\"><span class=\"cl-4e34b8ec\">505 (29%)</span></p></td><td class=\"cl-4e37d1b2\"><p class=\"cl-4e37bc90\"><span class=\"cl-4e34b8ec\">511 (29%)</span></p></td><td class=\"cl-4e37d1b3\"><p class=\"cl-4e37bc90\"><span class=\"cl-4e34b8ec\"></span></p></td></tr><tr style=\"overflow-wrap:break-word;\"><td class=\"cl-4e37d1f0\"><p class=\"cl-4e37bc90\"><span class=\"cl-4e34b8e3\">ICH Volume (mL)</span></p></td><td class=\"cl-4e37d1f1\"><p class=\"cl-4e37bc90\"><span class=\"cl-4e34b8ec\">11 (5, 26)</span></p></td><td class=\"cl-4e37d1f8\"><p class=\"cl-4e37bc90\"><span class=\"cl-4e34b8ec\">11 (5, 24)</span></p></td><td class=\"cl-4e37d1f9\"><p class=\"cl-4e37bc90\"><span class=\"cl-4e34b8ec\">12 (5, 27)</span></p></td><td class=\"cl-4e37d202\"><p class=\"cl-4e37bc90\"><span class=\"cl-4e34b8ec\">0.060</span></p></td></tr><tr style=\"overflow-wrap:break-word;\"><td class=\"cl-4e37d1a8\"><p class=\"cl-4e37bc90\"><span class=\"cl-4e34b8e3\">IVH</span></p></td><td class=\"cl-4e37d1a9\"><p class=\"cl-4e37bc90\"><span class=\"cl-4e34b8ec\">1,304 (38%)</span></p></td><td class=\"cl-4e37d1aa\"><p class=\"cl-4e37bc90\"><span class=\"cl-4e34b8ec\">624 (36%)</span></p></td><td class=\"cl-4e37d1b2\"><p class=\"cl-4e37bc90\"><span class=\"cl-4e34b8ec\">680 (39%)</span></p></td><td class=\"cl-4e37d1b3\"><p class=\"cl-4e37bc90\"><span class=\"cl-4e34b8ec\">0.14</span></p></td></tr><tr style=\"overflow-wrap:break-word;\"><td class=\"cl-4e37d1c8\"><p class=\"cl-4e37bc90\"><span class=\"cl-4e34b8e3\">Study</span></p></td><td class=\"cl-4e37d1d0\"><p class=\"cl-4e37bc90\"><span class=\"cl-4e34b8ec\"></span></p></td><td class=\"cl-4e37d1d1\"><p class=\"cl-4e37bc90\"><span class=\"cl-4e34b8ec\"></span></p></td><td class=\"cl-4e37d1da\"><p class=\"cl-4e37bc90\"><span class=\"cl-4e34b8ec\"></span></p></td><td class=\"cl-4e37d1db\"><p class=\"cl-4e37bc90\"><span class=\"cl-4e34b8ec\">0.18</span></p></td></tr><tr style=\"overflow-wrap:break-word;\"><td class=\"cl-4e37d1a8\"><p class=\"cl-4e37bc90\"><span class=\"cl-4e34b8ec\">ERICH</span></p></td><td class=\"cl-4e37d1a9\"><p class=\"cl-4e37bc90\"><span class=\"cl-4e34b8ec\">2,487 (72%)</span></p></td><td class=\"cl-4e37d1aa\"><p class=\"cl-4e37bc90\"><span class=\"cl-4e34b8ec\">1,248 (73%)</span></p></td><td class=\"cl-4e37d1b2\"><p class=\"cl-4e37bc90\"><span class=\"cl-4e34b8ec\">1,239 (71%)</span></p></td><td class=\"cl-4e37d1b3\"><p class=\"cl-4e37bc90\"><span class=\"cl-4e34b8ec\"></span></p></td></tr><tr style=\"overflow-wrap:break-word;\"><td class=\"cl-4e37d195\"><p class=\"cl-4e37bc90\"><span class=\"cl-4e34b8ec\">ATACH-2</span></p></td><td class=\"cl-4e37d196\"><p class=\"cl-4e37bc90\"><span class=\"cl-4e34b8ec\">990 (28%)</span></p></td><td class=\"cl-4e37d19e\"><p class=\"cl-4e37bc90\"><span class=\"cl-4e34b8ec\">472 (27%)</span></p></td><td class=\"cl-4e37d19f\"><p class=\"cl-4e37bc90\"><span class=\"cl-4e34b8ec\">518 (29%)</span></p></td><td class=\"cl-4e37d1a0\"><p class=\"cl-4e37bc90\"><span class=\"cl-4e34b8ec\"></span></p></td></tr></tbody><tfoot><tr style=\"overflow-wrap:break-word;\"><td  colspan=\"5\"class=\"cl-4e37d217\"><p class=\"cl-4e37bc7c\"><span class=\"cl-4e34b8e2\">1</span><span class=\"cl-4e34b8d8\">Median (IQR); n (%)</span></p></td></tr><tr style=\"overflow-wrap:break-word;\"><td  colspan=\"5\"class=\"cl-4e37d222\"><p class=\"cl-4e37bc7c\"><span class=\"cl-4e34b8e2\">2</span><span class=\"cl-4e34b8d8\">Wilcoxon rank sum test; Pearson's Chi-squared test; Fisher's exact test</span></p></td></tr></tfoot></table></div>"
      ]
     }
    }
   ],
   "source": [
    "with_dir(here(), tar_read(table_1_aggressive)) |>\n",
    "  as_flex_table() |>\n",
    "  font(part = \"all\", fontname = \"Figtree\") |>\n",
    "  fontsize(size = 11, part = \"header\") |>\n",
    "  fontsize(size = 10) |>\n",
    "  theme_zebra() |>\n",
    "  line_spacing(space = 1.25, part = \"all\") |>\n",
    "  padding(padding = 4, part = \"all\")"
   ],
   "id": "fc9e851a-bef6-42cf-87fd-32c80d47557b"
  },
  {
   "cell_type": "markdown",
   "metadata": {},
   "source": [
    "### Left hemispheric ICH and neurosurgical intervention"
   ],
   "id": "5fc8da0b-ca05-45d6-b10e-1e6380beae10"
  },
  {
   "cell_type": "code",
   "execution_count": null,
   "metadata": {},
   "outputs": [
    {
     "output_type": "stream",
     "name": "stderr",
     "text": [
      "Warning: The `x` argument of `as_tibble.matrix()` must have unique column names if\n",
      "`.name_repair` is omitted as of tibble 2.0.0.\n",
      "ℹ Using compatibility `.name_repair`."
     ]
    },
    {
     "output_type": "stream",
     "name": "stderr",
     "text": [
      "New names:\n",
      "• `` -> `...1`"
     ]
    },
    {
     "output_type": "display_data",
     "metadata": {},
     "data": {
      "text/html": [
       "<div class=\"tabwid\"><style>.cl-4fc0bb02{}.cl-4fbaa960{font-family:'Figtree';font-size:11pt;font-weight:bold;font-style:normal;text-decoration:none;color:rgba(0, 0, 0, 1.00);background-color:transparent;}.cl-4fbaa974{font-family:'Figtree';font-size:10pt;font-weight:bold;font-style:normal;text-decoration:none;color:rgba(0, 0, 0, 1.00);background-color:transparent;}.cl-4fbaa97e{font-family:'Figtree';font-size:10pt;font-weight:normal;font-style:normal;text-decoration:none;color:rgba(0, 0, 0, 1.00);background-color:transparent;}.cl-4fbd4940{margin:0;text-align:left;border-bottom: 0 solid rgba(0, 0, 0, 1.00);border-top: 0 solid rgba(0, 0, 0, 1.00);border-left: 0 solid rgba(0, 0, 0, 1.00);border-right: 0 solid rgba(0, 0, 0, 1.00);padding-bottom:5pt;padding-top:5pt;padding-left:5pt;padding-right:5pt;line-height: 1.25;background-color:transparent;}.cl-4fbd599e{width:50in;background-color:rgba(207, 207, 207, 1.00);vertical-align: middle;border-bottom: 0 solid rgba(0, 0, 0, 1.00);border-top: 0 solid rgba(0, 0, 0, 1.00);border-left: 0 solid rgba(0, 0, 0, 1.00);border-right: 0 solid rgba(0, 0, 0, 1.00);margin-bottom:0;margin-top:0;margin-left:0;margin-right:0;}.cl-4fbd59a8{width:2in;background-color:rgba(207, 207, 207, 1.00);vertical-align: middle;border-bottom: 0 solid rgba(0, 0, 0, 1.00);border-top: 0 solid rgba(0, 0, 0, 1.00);border-left: 0 solid rgba(0, 0, 0, 1.00);border-right: 0 solid rgba(0, 0, 0, 1.00);margin-bottom:0;margin-top:0;margin-left:0;margin-right:0;}.cl-4fbd59b2{width:4in;background-color:rgba(207, 207, 207, 1.00);vertical-align: middle;border-bottom: 0 solid rgba(0, 0, 0, 1.00);border-top: 0 solid rgba(0, 0, 0, 1.00);border-left: 0 solid rgba(0, 0, 0, 1.00);border-right: 0 solid rgba(0, 0, 0, 1.00);margin-bottom:0;margin-top:0;margin-left:0;margin-right:0;}.cl-4fbd59b3{width:0.75in;background-color:rgba(207, 207, 207, 1.00);vertical-align: middle;border-bottom: 0 solid rgba(0, 0, 0, 1.00);border-top: 0 solid rgba(0, 0, 0, 1.00);border-left: 0 solid rgba(0, 0, 0, 1.00);border-right: 0 solid rgba(0, 0, 0, 1.00);margin-bottom:0;margin-top:0;margin-left:0;margin-right:0;}.cl-4fbd59bc{width:50in;background-color:rgba(239, 239, 239, 1.00);vertical-align: middle;border-bottom: 0 solid rgba(0, 0, 0, 1.00);border-top: 0 solid rgba(0, 0, 0, 1.00);border-left: 0 solid rgba(0, 0, 0, 1.00);border-right: 0 solid rgba(0, 0, 0, 1.00);margin-bottom:0;margin-top:0;margin-left:0;margin-right:0;}.cl-4fbd59bd{width:2in;background-color:rgba(239, 239, 239, 1.00);vertical-align: middle;border-bottom: 0 solid rgba(0, 0, 0, 1.00);border-top: 0 solid rgba(0, 0, 0, 1.00);border-left: 0 solid rgba(0, 0, 0, 1.00);border-right: 0 solid rgba(0, 0, 0, 1.00);margin-bottom:0;margin-top:0;margin-left:0;margin-right:0;}.cl-4fbd59be{width:4in;background-color:rgba(239, 239, 239, 1.00);vertical-align: middle;border-bottom: 0 solid rgba(0, 0, 0, 1.00);border-top: 0 solid rgba(0, 0, 0, 1.00);border-left: 0 solid rgba(0, 0, 0, 1.00);border-right: 0 solid rgba(0, 0, 0, 1.00);margin-bottom:0;margin-top:0;margin-left:0;margin-right:0;}.cl-4fbd59c6{width:0.75in;background-color:rgba(239, 239, 239, 1.00);vertical-align: middle;border-bottom: 0 solid rgba(0, 0, 0, 1.00);border-top: 0 solid rgba(0, 0, 0, 1.00);border-left: 0 solid rgba(0, 0, 0, 1.00);border-right: 0 solid rgba(0, 0, 0, 1.00);margin-bottom:0;margin-top:0;margin-left:0;margin-right:0;}.cl-4fbd59c7{width:50in;background-color:transparent;vertical-align: middle;border-bottom: 0 solid rgba(0, 0, 0, 1.00);border-top: 0 solid rgba(0, 0, 0, 1.00);border-left: 0 solid rgba(0, 0, 0, 1.00);border-right: 0 solid rgba(0, 0, 0, 1.00);margin-bottom:0;margin-top:0;margin-left:0;margin-right:0;}.cl-4fbd59d0{width:2in;background-color:transparent;vertical-align: middle;border-bottom: 0 solid rgba(0, 0, 0, 1.00);border-top: 0 solid rgba(0, 0, 0, 1.00);border-left: 0 solid rgba(0, 0, 0, 1.00);border-right: 0 solid rgba(0, 0, 0, 1.00);margin-bottom:0;margin-top:0;margin-left:0;margin-right:0;}.cl-4fbd59d1{width:4in;background-color:transparent;vertical-align: middle;border-bottom: 0 solid rgba(0, 0, 0, 1.00);border-top: 0 solid rgba(0, 0, 0, 1.00);border-left: 0 solid rgba(0, 0, 0, 1.00);border-right: 0 solid rgba(0, 0, 0, 1.00);margin-bottom:0;margin-top:0;margin-left:0;margin-right:0;}.cl-4fbd59d2{width:0.75in;background-color:transparent;vertical-align: middle;border-bottom: 0 solid rgba(0, 0, 0, 1.00);border-top: 0 solid rgba(0, 0, 0, 1.00);border-left: 0 solid rgba(0, 0, 0, 1.00);border-right: 0 solid rgba(0, 0, 0, 1.00);margin-bottom:0;margin-top:0;margin-left:0;margin-right:0;}</style><table data-quarto-disable-processing='true' class='cl-4fc0bb02'><thead><tr style=\"overflow-wrap:break-word;\"><th class=\"cl-4fbd599e\"><p class=\"cl-4fbd4940\"><span class=\"cl-4fbaa960\">Outcome</span></p></th><th class=\"cl-4fbd59a8\"><p class=\"cl-4fbd4940\"><span class=\"cl-4fbaa960\">Left Hemisphere</span></p></th><th class=\"cl-4fbd59a8\"><p class=\"cl-4fbd4940\"><span class=\"cl-4fbaa960\">Right Hemisphere</span></p></th><th class=\"cl-4fbd59b2\"><p class=\"cl-4fbd4940\"><span class=\"cl-4fbaa960\">aOR</span></p></th><th class=\"cl-4fbd59b2\"><p class=\"cl-4fbd4940\"><span class=\"cl-4fbaa960\">95% Credible Interval</span></p></th><th class=\"cl-4fbd59b2\"><p class=\"cl-4fbd4940\"><span class=\"cl-4fbaa960\">Probability of Difference (aOR &gt;1)</span></p></th><th class=\"cl-4fbd59b3\"><p class=\"cl-4fbd4940\"><span class=\"cl-4fbaa960\">% ROPE</span></p></th></tr></thead><tbody><tr style=\"overflow-wrap:break-word;\"><td class=\"cl-4fbd59bc\"><p class=\"cl-4fbd4940\"><span class=\"cl-4fbaa974\">Neurosurgical Intervention</span></p></td><td class=\"cl-4fbd59bd\"><p class=\"cl-4fbd4940\"><span class=\"cl-4fbaa974\">86 (5.0%)</span></p></td><td class=\"cl-4fbd59bd\"><p class=\"cl-4fbd4940\"><span class=\"cl-4fbaa974\">144 (8.2%)</span></p></td><td class=\"cl-4fbd59be\"><p class=\"cl-4fbd4940\"><span class=\"cl-4fbaa974\">1.84</span></p></td><td class=\"cl-4fbd59be\"><p class=\"cl-4fbd4940\"><span class=\"cl-4fbaa974\">1.36 - 2.50</span></p></td><td class=\"cl-4fbd59be\"><p class=\"cl-4fbd4940\"><span class=\"cl-4fbaa974\">1</span></p></td><td class=\"cl-4fbd59c6\"><p class=\"cl-4fbd4940\"><span class=\"cl-4fbaa974\">0.00025</span></p></td></tr><tr style=\"overflow-wrap:break-word;\"><td class=\"cl-4fbd59c7\"><p class=\"cl-4fbd4940\"><span class=\"cl-4fbaa97e\">External Ventricular Drain</span></p></td><td class=\"cl-4fbd59d0\"><p class=\"cl-4fbd4940\"><span class=\"cl-4fbaa97e\">236 (14%)</span></p></td><td class=\"cl-4fbd59d0\"><p class=\"cl-4fbd4940\"><span class=\"cl-4fbaa97e\">272 (15%)</span></p></td><td class=\"cl-4fbd59d1\"><p class=\"cl-4fbd4940\"><span class=\"cl-4fbaa97e\">1.32</span></p></td><td class=\"cl-4fbd59d1\"><p class=\"cl-4fbd4940\"><span class=\"cl-4fbaa97e\">1.07 - 1.64</span></p></td><td class=\"cl-4fbd59d1\"><p class=\"cl-4fbd4940\"><span class=\"cl-4fbaa97e\">0.9925</span></p></td><td class=\"cl-4fbd59d2\"><p class=\"cl-4fbd4940\"><span class=\"cl-4fbaa97e\">0.01975</span></p></td></tr><tr style=\"overflow-wrap:break-word;\"><td class=\"cl-4fbd59bc\"><p class=\"cl-4fbd4940\"><span class=\"cl-4fbaa97e\">Tracheostomy</span></p></td><td class=\"cl-4fbd59bd\"><p class=\"cl-4fbd4940\"><span class=\"cl-4fbaa97e\">6.0 (3.0, 12.5)</span></p></td><td class=\"cl-4fbd59bd\"><p class=\"cl-4fbd4940\"><span class=\"cl-4fbaa97e\">6.0 (3.0, 9.0)</span></p></td><td class=\"cl-4fbd59be\"><p class=\"cl-4fbd4940\"><span class=\"cl-4fbaa97e\">0.99</span></p></td><td class=\"cl-4fbd59be\"><p class=\"cl-4fbd4940\"><span class=\"cl-4fbaa97e\">0.58 - 1.71</span></p></td><td class=\"cl-4fbd59be\"><p class=\"cl-4fbd4940\"><span class=\"cl-4fbaa97e\">0.48875</span></p></td><td class=\"cl-4fbd59c6\"><p class=\"cl-4fbd4940\"><span class=\"cl-4fbaa97e\">0.1385</span></p></td></tr><tr style=\"overflow-wrap:break-word;\"><td class=\"cl-4fbd59c7\"><p class=\"cl-4fbd4940\"><span class=\"cl-4fbaa97e\">Days of Mechanical Ventilation</span></p></td><td class=\"cl-4fbd59d0\"><p class=\"cl-4fbd4940\"><span class=\"cl-4fbaa97e\">19 (1.1%)</span></p></td><td class=\"cl-4fbd59d0\"><p class=\"cl-4fbd4940\"><span class=\"cl-4fbaa97e\">19 (1.1%)</span></p></td><td class=\"cl-4fbd59d1\"><p class=\"cl-4fbd4940\"><span class=\"cl-4fbaa97e\">0.88</span></p></td><td class=\"cl-4fbd59d1\"><p class=\"cl-4fbd4940\"><span class=\"cl-4fbaa97e\">0.49 - 1.53</span></p></td><td class=\"cl-4fbd59d1\"><p class=\"cl-4fbd4940\"><span class=\"cl-4fbaa97e\">0.3285</span></p></td><td class=\"cl-4fbd59d2\"><p class=\"cl-4fbd4940\"><span class=\"cl-4fbaa97e\">0.12975</span></p></td></tr><tr style=\"overflow-wrap:break-word;\"><td class=\"cl-4fbd59bc\"><p class=\"cl-4fbd4940\"><span class=\"cl-4fbaa97e\">Withdrawal of Life-Sustaining Therapy</span></p></td><td class=\"cl-4fbd59bd\"><p class=\"cl-4fbd4940\"><span class=\"cl-4fbaa97e\">152 (8.8%)</span></p></td><td class=\"cl-4fbd59bd\"><p class=\"cl-4fbd4940\"><span class=\"cl-4fbaa97e\">143 (8.1%)</span></p></td><td class=\"cl-4fbd59be\"><p class=\"cl-4fbd4940\"><span class=\"cl-4fbaa97e\">0.94</span></p></td><td class=\"cl-4fbd59be\"><p class=\"cl-4fbd4940\"><span class=\"cl-4fbaa97e\">0.72 - 1.23</span></p></td><td class=\"cl-4fbd59be\"><p class=\"cl-4fbd4940\"><span class=\"cl-4fbaa97e\">0.32875</span></p></td><td class=\"cl-4fbd59c6\"><p class=\"cl-4fbd4940\"><span class=\"cl-4fbaa97e\">0.2565</span></p></td></tr><tr style=\"overflow-wrap:break-word;\"><td class=\"cl-4fbd59c7\"><p class=\"cl-4fbd4940\"><span class=\"cl-4fbaa97e\">Early Withdrawal of Life-Sustaining Therapy</span></p></td><td class=\"cl-4fbd59d0\"><p class=\"cl-4fbd4940\"><span class=\"cl-4fbaa97e\">45 (2.6%)</span></p></td><td class=\"cl-4fbd59d0\"><p class=\"cl-4fbd4940\"><span class=\"cl-4fbaa97e\">39 (2.2%)</span></p></td><td class=\"cl-4fbd59d1\"><p class=\"cl-4fbd4940\"><span class=\"cl-4fbaa97e\">0.90</span></p></td><td class=\"cl-4fbd59d1\"><p class=\"cl-4fbd4940\"><span class=\"cl-4fbaa97e\">0.59 - 1.42</span></p></td><td class=\"cl-4fbd59d1\"><p class=\"cl-4fbd4940\"><span class=\"cl-4fbaa97e\">0.32525</span></p></td><td class=\"cl-4fbd59d2\"><p class=\"cl-4fbd4940\"><span class=\"cl-4fbaa97e\">0.1605</span></p></td></tr><tr style=\"overflow-wrap:break-word;\"><td class=\"cl-4fbd59bc\"><p class=\"cl-4fbd4940\"><span class=\"cl-4fbaa97e\">DNR Order</span></p></td><td class=\"cl-4fbd59bd\"><p class=\"cl-4fbd4940\"><span class=\"cl-4fbaa97e\">195 (11%)</span></p></td><td class=\"cl-4fbd59bd\"><p class=\"cl-4fbd4940\"><span class=\"cl-4fbaa97e\">202 (11%)</span></p></td><td class=\"cl-4fbd59be\"><p class=\"cl-4fbd4940\"><span class=\"cl-4fbaa97e\">1.02</span></p></td><td class=\"cl-4fbd59be\"><p class=\"cl-4fbd4940\"><span class=\"cl-4fbaa97e\">0.79 - 1.31</span></p></td><td class=\"cl-4fbd59be\"><p class=\"cl-4fbd4940\"><span class=\"cl-4fbaa97e\">0.55075</span></p></td><td class=\"cl-4fbd59c6\"><p class=\"cl-4fbd4940\"><span class=\"cl-4fbaa97e\">0.32125</span></p></td></tr></tbody></table></div>"
      ]
     }
    }
   ],
   "source": [
    "summary <- modelsummary(models,\n",
    "  exponentiate = TRUE,\n",
    "  fmt = 2,\n",
    "  estimate = \"{estimate}\",\n",
    "  statistic = \"{conf.low} - {conf.high}\",\n",
    "  coef_omit = \"^(?!b_ich_lat)\",\n",
    "  coef_rename = c(\"b_ich_lateralityRight\" = \"Right Hemisphere ICH\"),\n",
    "  gof_map = c(\"none\")\n",
    ")\n",
    "\n",
    "# gather odds ratios from modelsummary object\n",
    "odds_ratios <- summary |> map(pluck(1))\n",
    "odds_ratios[1] <- NULL\n",
    "\n",
    "# gather credible intervals from modelsummary object\n",
    "credible_ints <- summary |> map(pluck(2))\n",
    "credible_ints[1] <- NULL\n",
    "\n",
    "\n",
    "# gather posterior probabilities of various magnitudes of difference\n",
    "neurosurgery <- models$\"Neurosurgical Intervention\" |>\n",
    "  spread_draws(b_ich_lateralityRight) |>\n",
    "  mutate(ich_right_or = exp(b_ich_lateralityRight)) |>\n",
    "  summarize(\n",
    "    or_1 = sum(ich_right_or > 1) / n(),\n",
    "    or_1.1 = sum(ich_right_or > 1.1) / n(),\n",
    "    or_1.2 = sum(ich_right_or > 1.2) / n(),\n",
    "    rope = sum(ich_right_or < 1.05 & ich_right_or > 0.95) / n()\n",
    "  )\n",
    "\n",
    "evd <- models$\"External Ventricular Drain\" |>\n",
    "  spread_draws(b_ich_lateralityRight) |>\n",
    "  mutate(ich_right_or = exp(b_ich_lateralityRight)) |>\n",
    "  summarize(\n",
    "    or_1 = sum(ich_right_or > 1) / n(),\n",
    "    or_1.1 = sum(ich_right_or > 1.1) / n(),\n",
    "    or_1.2 = sum(ich_right_or > 1.2) / n(),\n",
    "    rope = sum(ich_right_or < 1.05 & ich_right_or > 0.95) / n()\n",
    "  )\n",
    "\n",
    "trach <- models$\"Tracheostomy\" |>\n",
    "  spread_draws(b_ich_lateralityRight) |>\n",
    "  mutate(ich_right_or = exp(b_ich_lateralityRight)) |>\n",
    "  summarize(\n",
    "    or_1 = sum(ich_right_or > 1) / n(),\n",
    "    or_1.1 = sum(ich_right_or > 1.1) / n(),\n",
    "    or_1.2 = sum(ich_right_or > 1.2) / n(),\n",
    "    rope = sum(ich_right_or < 1.05 & ich_right_or > 0.95) / n()\n",
    "  )\n",
    "\n",
    "vent <- models$\"Days of Mechanical Ventilation\" |>\n",
    "  spread_draws(b_ich_lateralityRight) |>\n",
    "  mutate(ich_right_or = exp(b_ich_lateralityRight)) |>\n",
    "  summarize(\n",
    "    or_1 = sum(ich_right_or > 1) / n(),\n",
    "    or_1.1 = sum(ich_right_or > 1.1) / n(),\n",
    "    or_1.2 = sum(ich_right_or > 1.2) / n(),\n",
    "    rope = sum(ich_right_or < 1.05 & ich_right_or > 0.95) / n()\n",
    "  )\n",
    "\n",
    "dnr <- models$\"DNR Order\" |>\n",
    "  spread_draws(b_ich_lateralityRight) |>\n",
    "  mutate(ich_right_or = exp(b_ich_lateralityRight)) |>\n",
    "  summarize(\n",
    "    or_1 = sum(ich_right_or > 1) / n(),\n",
    "    or_1.1 = sum(ich_right_or > 1.1) / n(),\n",
    "    or_1.2 = sum(ich_right_or > 1.2) / n(),\n",
    "    rope = sum(ich_right_or < 1.05 & ich_right_or > 0.95) / n()\n",
    "  )\n",
    "\n",
    "wlst <- models$\"Withdrawal of Life-Sustaining Therapy\" |>\n",
    "  spread_draws(b_ich_lateralityRight) |>\n",
    "  mutate(ich_right_or = exp(b_ich_lateralityRight)) |>\n",
    "  summarize(\n",
    "    or_1 = sum(ich_right_or > 1) / n(),\n",
    "    or_1.1 = sum(ich_right_or > 1.1) / n(),\n",
    "    or_1.2 = sum(ich_right_or > 1.2) / n(),\n",
    "    rope = sum(ich_right_or < 1.05 & ich_right_or > 0.95) / n()\n",
    "  )\n",
    "\n",
    "early_wlst <- models$\"Early Withdrawal of Life-Sustaining Therapy\" |>\n",
    "  spread_draws(b_ich_lateralityRight) |>\n",
    "  mutate(ich_right_or = exp(b_ich_lateralityRight)) |>\n",
    "  summarize(\n",
    "    or_1 = sum(ich_right_or > 1) / n(),\n",
    "    or_1.1 = sum(ich_right_or > 1.1) / n(),\n",
    "    or_1.2 = sum(ich_right_or > 1.2) / n(),\n",
    "    rope = sum(ich_right_or < 1.05 & ich_right_or > 0.95) / n()\n",
    "  )\n",
    "\n",
    "# combine probability of OR > 1 (prob of difference)\n",
    "prob_difference <- list(\n",
    "  \"Neurosurgical Intervention\" = pluck(neurosurgery, 1),\n",
    "  \"External Ventricular Drain\" = pluck(evd, 1),\n",
    "  \"Tracheostomy\" = pluck(trach, 1),\n",
    "  \"Days of Mechanical Ventilation\" = pluck(vent, 1),\n",
    "  \"Withdrawal of Life-Sustaining Therapy\" = pluck(wlst, 1),\n",
    "  \"Early Withdrawal of Life-Sustaining Therapy\" = pluck(early_wlst, 1),\n",
    "  \"DNR Order\" = pluck(dnr, 1)\n",
    ")\n",
    "\n",
    "# combine % of posterior within the ROPE\n",
    "rope <- list(\n",
    "  \"Neurosurgical Intervention\" = pluck(neurosurgery, 4),\n",
    "  \"External Ventricular Drain\" = pluck(evd, 4),\n",
    "  \"Tracheostomy\" = pluck(trach, 4),\n",
    "  \"Days of Mechanical Ventilation\" = pluck(vent, 4),\n",
    "  \"Withdrawal of Life-Sustaining Therapy\" = pluck(wlst, 4),\n",
    "  \"Early Withdrawal of Life-Sustaining Therapy\" = pluck(early_wlst, 4),\n",
    "  \"DNR Order\" = pluck(dnr, 4)\n",
    ")\n",
    "\n",
    "table1 <- bind_rows(odds_ratios, credible_ints)\n",
    "table2 <- bind_rows(prob_difference, rope) |> mutate(across(1:7, as.character))\n",
    "\n",
    "pre_tab <- as_tibble(t(bind_rows(table1, table2)))"
   ],
   "id": "160c6099-a6ee-4a7e-8771-1aa8fc3f8d81"
  },
  {
   "cell_type": "markdown",
   "metadata": {},
   "source": [
    "### Left hemispheric ICH and other measures of aggressive care\n",
    "\n",
    "### Subgroup analyses\n",
    "\n",
    "### Sensitivity analyses\n",
    "\n",
    "## Discussion\n",
    "\n",
    "Hello\n",
    "\n",
    "## Acknowledgments\n",
    "\n",
    "## References"
   ],
   "id": "4b62911c-6acf-4dac-b6ae-4ef878bcff79"
  }
 ],
 "nbformat": 4,
 "nbformat_minor": 5,
 "metadata": {}
}
