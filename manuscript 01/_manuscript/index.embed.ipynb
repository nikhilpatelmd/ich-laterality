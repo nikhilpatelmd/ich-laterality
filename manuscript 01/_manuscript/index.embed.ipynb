{
 "cells": [
  {
   "cell_type": "markdown",
   "metadata": {},
   "source": [
    "# Does Hemispheric Lateralization Influence Aggressive Treatment in\n",
    "\n",
    "Patients with Intracerebral Hemorrhage?\n",
    "\n",
    "An Analysis of ATACH-2 and ERICH\n",
    "\n",
    "Nikhil Patel [![](data:image/png;base64,iVBORw0KGgoAAAANSUhEUgAAABAAAAAQCAYAAAAf8/9hAAAAGXRFWHRTb2Z0d2FyZQBBZG9iZSBJbWFnZVJlYWR5ccllPAAAA2ZpVFh0WE1MOmNvbS5hZG9iZS54bXAAAAAAADw/eHBhY2tldCBiZWdpbj0i77u/IiBpZD0iVzVNME1wQ2VoaUh6cmVTek5UY3prYzlkIj8+IDx4OnhtcG1ldGEgeG1sbnM6eD0iYWRvYmU6bnM6bWV0YS8iIHg6eG1wdGs9IkFkb2JlIFhNUCBDb3JlIDUuMC1jMDYwIDYxLjEzNDc3NywgMjAxMC8wMi8xMi0xNzozMjowMCAgICAgICAgIj4gPHJkZjpSREYgeG1sbnM6cmRmPSJodHRwOi8vd3d3LnczLm9yZy8xOTk5LzAyLzIyLXJkZi1zeW50YXgtbnMjIj4gPHJkZjpEZXNjcmlwdGlvbiByZGY6YWJvdXQ9IiIgeG1sbnM6eG1wTU09Imh0dHA6Ly9ucy5hZG9iZS5jb20veGFwLzEuMC9tbS8iIHhtbG5zOnN0UmVmPSJodHRwOi8vbnMuYWRvYmUuY29tL3hhcC8xLjAvc1R5cGUvUmVzb3VyY2VSZWYjIiB4bWxuczp4bXA9Imh0dHA6Ly9ucy5hZG9iZS5jb20veGFwLzEuMC8iIHhtcE1NOk9yaWdpbmFsRG9jdW1lbnRJRD0ieG1wLmRpZDo1N0NEMjA4MDI1MjA2ODExOTk0QzkzNTEzRjZEQTg1NyIgeG1wTU06RG9jdW1lbnRJRD0ieG1wLmRpZDozM0NDOEJGNEZGNTcxMUUxODdBOEVCODg2RjdCQ0QwOSIgeG1wTU06SW5zdGFuY2VJRD0ieG1wLmlpZDozM0NDOEJGM0ZGNTcxMUUxODdBOEVCODg2RjdCQ0QwOSIgeG1wOkNyZWF0b3JUb29sPSJBZG9iZSBQaG90b3Nob3AgQ1M1IE1hY2ludG9zaCI+IDx4bXBNTTpEZXJpdmVkRnJvbSBzdFJlZjppbnN0YW5jZUlEPSJ4bXAuaWlkOkZDN0YxMTc0MDcyMDY4MTE5NUZFRDc5MUM2MUUwNEREIiBzdFJlZjpkb2N1bWVudElEPSJ4bXAuZGlkOjU3Q0QyMDgwMjUyMDY4MTE5OTRDOTM1MTNGNkRBODU3Ii8+IDwvcmRmOkRlc2NyaXB0aW9uPiA8L3JkZjpSREY+IDwveDp4bXBtZXRhPiA8P3hwYWNrZXQgZW5kPSJyIj8+84NovQAAAR1JREFUeNpiZEADy85ZJgCpeCB2QJM6AMQLo4yOL0AWZETSqACk1gOxAQN+cAGIA4EGPQBxmJA0nwdpjjQ8xqArmczw5tMHXAaALDgP1QMxAGqzAAPxQACqh4ER6uf5MBlkm0X4EGayMfMw/Pr7Bd2gRBZogMFBrv01hisv5jLsv9nLAPIOMnjy8RDDyYctyAbFM2EJbRQw+aAWw/LzVgx7b+cwCHKqMhjJFCBLOzAR6+lXX84xnHjYyqAo5IUizkRCwIENQQckGSDGY4TVgAPEaraQr2a4/24bSuoExcJCfAEJihXkWDj3ZAKy9EJGaEo8T0QSxkjSwORsCAuDQCD+QILmD1A9kECEZgxDaEZhICIzGcIyEyOl2RkgwAAhkmC+eAm0TAAAAABJRU5ErkJggg==)](https://orcid.org/0000-0002-3193-8590) (Department of Neurology, Wake Forest University School of Medicine)  \n",
    "Matt Jaffa (Department of Neurology, University of Connecticut School of Medicine)  \n",
    "Rahul Karamchandani (Department of Neurology, Wake Forest University School of Medicine)  \n",
    "March 6, 2024\n",
    "\n",
    "Hemispheric laterality blah blah blah"
   ],
   "id": "2abc2ce7-95ea-4ffb-89f0-9d82b1273e4a"
  },
  {
   "cell_type": "code",
   "execution_count": null,
   "metadata": {},
   "outputs": [
    {
     "output_type": "stream",
     "name": "stderr",
     "text": [
      "\n",
      "Attaching package: 'dplyr'"
     ]
    },
    {
     "output_type": "stream",
     "name": "stderr",
     "text": [
      "The following objects are masked from 'package:stats':\n",
      "\n",
      "    filter, lag"
     ]
    },
    {
     "output_type": "stream",
     "name": "stderr",
     "text": [
      "The following objects are masked from 'package:base':\n",
      "\n",
      "    intersect, setdiff, setequal, union"
     ]
    },
    {
     "output_type": "stream",
     "name": "stderr",
     "text": [
      "here() starts at /home/nikhil/Documents/GitHub/ich-laterality"
     ]
    }
   ],
   "source": [
    "library(targets)\n",
    "library(dplyr)"
   ],
   "id": "996fb5e5-69fe-4f67-a0a0-f0d65e1903ba"
  },
  {
   "cell_type": "markdown",
   "metadata": {},
   "source": [
    "## Introduction\n",
    "\n",
    "The clinical presentation of patients with stroke can vary based on the hemisphere affected, in particular with language, spatial orientation, and emotional processing. Previous research involving patients with ischemic stroke provide evidence that those with right hemispheric injury present later to the hospital and may not be treated as frequently with thrombolytic therapy.\\[@legge_neglecting_2006; @di_legge_impact_2005-1\\] On the other hand, there is a hesitation among some practitioners to offer decompressive craniectomy in patients with dominant-hemispheric infarcts. \\[@lin_decompressive_2021-1\\]\n",
    "\n",
    "It is unclear how previous research in the ischemic stroke population translates to patients experiencing intracerebral hemorrhage. Not much has been investigated.\n",
    "\n",
    "We aimed to evaluate the effect of hemispheric lateralization on the probability of receiving aggressive care in patients with ICH.\n",
    "\n",
    "## Methods\n",
    "\n",
    "### Study Design and Participants\n",
    "\n",
    "We conducted a cohort study using data from 2 prospective studies: the Antihypertensive Treatment of Acute Cerebral Hemorrhage II (ATACH-2) trial \\[@qureshi_intensive_2016\\] and the Ethnic/Racial Variations of Intracerebral Hemorrhage (ERICH)\\[@woo_ethnicracial_2013\\] study. ATACH-2 was a large, multicenter, international, open-label, blinded-endpoint randomized controlled trial enrolling 1000 patients with ICH while ERICH was a large, multicenter, prospective observational study enrolling patients in the United States admitted with ICH. Study protocols and results of both studies have been previously published and are available elsewhere.\n",
    "\n",
    "We included all patients enrolled in these two studies with supratentorial location of ICH. We excluded patients with cerebellar or brainstem ICH as well as any patient with primary intraventricular hemorrhage (IVH).\n",
    "\n",
    "The study was approved by the institutional review board of the Wake Forest School of Medicine.\n",
    "\n",
    "#### Data Availability Statement\n",
    "\n",
    "The ATACH-2 (PI: Adnan I. Qureshi, MD, NCT01176565) and ERICH (PI: Daniel Woo, MD, MS, NCT01202864) data and analyses presented in this manuscript are based on the research files downloaded from the Archived Clinical Research web site of the National Institute of Neurologic Disease and Stroke (NINDS). The datasets can be obtained after approval of a written proposal as outlined on the NINDS website.\n",
    "\n",
    "The analysis code is publicly available as outlined by the NINDS Data Request Agreement at <https://github.com/nikhilpatelmd/ich-laterality>.\n",
    "\n",
    "### Exposures and Outcomes\n",
    "\n",
    "Our exposure was hemispheric laterality (left versus right). Our primary outcome was neurosurgical intervention, defined as receiving a hematoma evacuation, decompressive craniectomy, or other craniotomy.\n",
    "\n",
    "To explore differences in other aspects of aggressive care, we defined several secondary outcomes: receipt of external ventricular drain (EVD), tracheostomy, percutaneous endoscopic gastrostomy (PEG) tube, do-not-resuscitate (DNR) order at any point in the hospitalization, withdrawal of life-sustaining therapy (WLST) at any point in the hospitalization, and early WLST (\\< 72 from symptom onset).\n",
    "\n",
    "### Statistical Analysis\n",
    "\n",
    "#### Overall Analysis Plan\n",
    "\n",
    "## Results\n",
    "\n",
    "A total of 3477 patients were included in the analysis."
   ],
   "id": "fd608cfa-7302-4936-9b55-2324507295aa"
  },
  {
   "cell_type": "code",
   "execution_count": null,
   "metadata": {},
   "outputs": [
    {
     "output_type": "stream",
     "name": "stderr",
     "text": [
      "#StandWithUkraine"
     ]
    },
    {
     "output_type": "stream",
     "name": "stderr",
     "text": [
      "Setting theme `Compact`"
     ]
    },
    {
     "output_type": "display_data",
     "metadata": {},
     "data": {
      "text/html": [
       "\n",
       "</div>"
      ],
      "text/markdown": [
       "  ---------------------------------------------------------------------------------------------------------------------------------------------------------------------------------------------------------------------------------------------------------------------------------------------------------------------------------------------------\n",
       "  **Characteristic**                                                  **Overall**, N = 3,477[^1^]{.gt_footnote_marks                      **Left**, N = 1,720[^1^]{.gt_footnote_marks                         **Right**, N = 1,757[^1^]{.gt_footnote_marks                        **p-value**[^2^]{.gt_footnote_marks\n",
       "                                                                      style=\"white-space:nowrap;font-style:italic;font-weight:normal;\"}   style=\"white-space:nowrap;font-style:italic;font-weight:normal;\"}   style=\"white-space:nowrap;font-style:italic;font-weight:normal;\"}   style=\"white-space:nowrap;font-style:italic;font-weight:normal;\"}\n",
       "  ------------------------------------------------------------------- ------------------------------------------------------------------- ------------------------------------------------------------------- ------------------------------------------------------------------- -------------------------------------------------------------------\n",
       "  Age                                                                 61 (52, 73)                                                         61 (52, 72)                                                         61 (52, 73)                                                         \\>0.9\n",
       "\n",
       "  Sex                                                                 \\                                                                   \\                                                                   \\                                                                   0.12\n",
       "\n",
       "      Male                                                            2,081 (60%)                                                         1,007 (59%)                                                         1,074 (61%)                                                         \\\n",
       "\n",
       "      Female                                                          1,396 (40%)                                                         713 (41%)                                                           683 (39%)                                                           \\\n",
       "\n",
       "  Race                                                                \\                                                                   \\                                                                   \\                                                                   0.6\n",
       "\n",
       "      White                                                           1,875 (54%)                                                         935 (54%)                                                           940 (54%)                                                           \\\n",
       "\n",
       "      Black or African-American                                       1,022 (29%)                                                         510 (30%)                                                           512 (29%)                                                           \\\n",
       "\n",
       "      Asian                                                           557 (16%)                                                           263 (15%)                                                           294 (17%)                                                           \\\n",
       "\n",
       "      Other/Not Reported                                              16 (0.5%)                                                           7 (0.4%)                                                            9 (0.5%)                                                            \\\n",
       "\n",
       "      American Indian or Alaskan Native                               7 (0.2%)                                                            5 (0.3%)                                                            2 (0.1%)                                                            \\\n",
       "\n",
       "  Ethnicity                                                           \\                                                                   \\                                                                   \\                                                                   0.4\n",
       "\n",
       "      Not Hispanic or Latino                                          2,296 (66%)                                                         1,141 (66%)                                                         1,155 (66%)                                                         \\\n",
       "\n",
       "      Unknown/Not Reported                                            1,052 (30%)                                                         509 (30%)                                                           543 (31%)                                                           \\\n",
       "\n",
       "      Hispanic or Latino                                              129 (3.7%)                                                          70 (4.1%)                                                           59 (3.4%)                                                           \\\n",
       "\n",
       "  LNW to ED Presentation (mins)                                       78 (60, 180)                                                        74 (60, 180)                                                        83 (59, 180)                                                        0.2\n",
       "\n",
       "  Baseline SBP (mm Hg)                                                190 (165, 215)                                                      190 (165, 216)                                                      190 (165, 214)                                                      0.3\n",
       "\n",
       "  Baseline NIHSS                                                      11 (6, 16)                                                          11 (6, 17)                                                          11 (7, 14)                                                          0.014\n",
       "\n",
       "  Baseline GCS                                                        15.0 (12.0, 15.0)                                                   14.0 (11.0, 15.0)                                                   15.0 (13.0, 15.0)                                                   \\<0.001\n",
       "\n",
       "  Hypertension                                                        784 (23%)                                                           366 (21%)                                                           418 (24%)                                                           0.076\n",
       "\n",
       "  Type II Diabetes                                                    705 (20%)                                                           348 (20%)                                                           357 (20%)                                                           \\>0.9\n",
       "\n",
       "  Previous Stroke                                                     583 (17%)                                                           293 (17%)                                                           290 (17%)                                                           0.7\n",
       "\n",
       "  Tobacco Use                                                         1,361 (39%)                                                         663 (39%)                                                           698 (40%)                                                           0.5\n",
       "\n",
       "  ICH Location                                                        \\                                                                   \\                                                                   \\                                                                   0.002\n",
       "\n",
       "      Basal Ganglia                                                   1,304 (38%)                                                         688 (40%)                                                           616 (35%)                                                           \\\n",
       "\n",
       "      Thalamus                                                        1,157 (33%)                                                         527 (31%)                                                           630 (36%)                                                           \\\n",
       "\n",
       "      Lobar                                                           1,016 (29%)                                                         505 (29%)                                                           511 (29%)                                                           \\\n",
       "\n",
       "  ICH Volume (mL)                                                     11 (5, 26)                                                          11 (5, 24)                                                          12 (5, 27)                                                          0.060\n",
       "\n",
       "  IVH                                                                 1,304 (38%)                                                         624 (36%)                                                           680 (39%)                                                           0.14\n",
       "\n",
       "  Study                                                               \\                                                                   \\                                                                   \\                                                                   0.2\n",
       "\n",
       "      ERICH                                                           2,487 (72%)                                                         1,248 (73%)                                                         1,239 (71%)                                                         \\\n",
       "\n",
       "      ATACH-2                                                         990 (28%)                                                           472 (27%)                                                           518 (29%)                                                           \\\n",
       "\n",
       "  [^1^]{.gt_footnote_marks                                                                                                                                                                                                                                                        \n",
       "  style=\"white-space:nowrap;font-style:italic;font-weight:normal;\"}                                                                                                                                                                                                               \n",
       "  Median (IQR); n (%)                                                                                                                                                                                                                                                             \n",
       "\n",
       "  [^2^]{.gt_footnote_marks                                                                                                                                                                                                                                                        \n",
       "  style=\"white-space:nowrap;font-style:italic;font-weight:normal;\"}                                                                                                                                                                                                               \n",
       "  Wilcoxon rank sum test; Pearson's Chi-squared test; Fisher's exact                                                                                                                                                                                                              \n",
       "  test                                                                                                                                                                                                                                                                            \n",
       "  ---------------------------------------------------------------------------------------------------------------------------------------------------------------------------------------------------------------------------------------------------------------------------------------------------------------------------------------------------\n"
      ]
     }
    }
   ],
   "source": [
    "library(gtsummary)"
   ],
   "id": "55c3c8d0-c986-45eb-aec4-0b0c333d4886"
  },
  {
   "cell_type": "markdown",
   "metadata": {},
   "source": [
    "## Acknowledgments\n",
    "\n",
    "## References"
   ],
   "id": "3bc73a74-ddf8-46f3-a0ab-ee7a0b491dcc"
  }
 ],
 "nbformat": 4,
 "nbformat_minor": 5,
 "metadata": {}
}
