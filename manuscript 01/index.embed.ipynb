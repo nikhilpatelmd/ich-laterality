{
 "cells": [
  {
   "cell_type": "markdown",
   "metadata": {},
   "source": [
    "# Patients with Left Hemispheric Intracerebral Hemorrhage are Less\n",
    "\n",
    "Likely to Receive Neurosurgical Intervention\n",
    "\n",
    "A Bayesian Analysis of ATACH-2 and ERICH\n",
    "\n",
    "Nikhil Patel [![](data:image/png;base64,iVBORw0KGgoAAAANSUhEUgAAABAAAAAQCAYAAAAf8/9hAAAAGXRFWHRTb2Z0d2FyZQBBZG9iZSBJbWFnZVJlYWR5ccllPAAAA2ZpVFh0WE1MOmNvbS5hZG9iZS54bXAAAAAAADw/eHBhY2tldCBiZWdpbj0i77u/IiBpZD0iVzVNME1wQ2VoaUh6cmVTek5UY3prYzlkIj8+IDx4OnhtcG1ldGEgeG1sbnM6eD0iYWRvYmU6bnM6bWV0YS8iIHg6eG1wdGs9IkFkb2JlIFhNUCBDb3JlIDUuMC1jMDYwIDYxLjEzNDc3NywgMjAxMC8wMi8xMi0xNzozMjowMCAgICAgICAgIj4gPHJkZjpSREYgeG1sbnM6cmRmPSJodHRwOi8vd3d3LnczLm9yZy8xOTk5LzAyLzIyLXJkZi1zeW50YXgtbnMjIj4gPHJkZjpEZXNjcmlwdGlvbiByZGY6YWJvdXQ9IiIgeG1sbnM6eG1wTU09Imh0dHA6Ly9ucy5hZG9iZS5jb20veGFwLzEuMC9tbS8iIHhtbG5zOnN0UmVmPSJodHRwOi8vbnMuYWRvYmUuY29tL3hhcC8xLjAvc1R5cGUvUmVzb3VyY2VSZWYjIiB4bWxuczp4bXA9Imh0dHA6Ly9ucy5hZG9iZS5jb20veGFwLzEuMC8iIHhtcE1NOk9yaWdpbmFsRG9jdW1lbnRJRD0ieG1wLmRpZDo1N0NEMjA4MDI1MjA2ODExOTk0QzkzNTEzRjZEQTg1NyIgeG1wTU06RG9jdW1lbnRJRD0ieG1wLmRpZDozM0NDOEJGNEZGNTcxMUUxODdBOEVCODg2RjdCQ0QwOSIgeG1wTU06SW5zdGFuY2VJRD0ieG1wLmlpZDozM0NDOEJGM0ZGNTcxMUUxODdBOEVCODg2RjdCQ0QwOSIgeG1wOkNyZWF0b3JUb29sPSJBZG9iZSBQaG90b3Nob3AgQ1M1IE1hY2ludG9zaCI+IDx4bXBNTTpEZXJpdmVkRnJvbSBzdFJlZjppbnN0YW5jZUlEPSJ4bXAuaWlkOkZDN0YxMTc0MDcyMDY4MTE5NUZFRDc5MUM2MUUwNEREIiBzdFJlZjpkb2N1bWVudElEPSJ4bXAuZGlkOjU3Q0QyMDgwMjUyMDY4MTE5OTRDOTM1MTNGNkRBODU3Ii8+IDwvcmRmOkRlc2NyaXB0aW9uPiA8L3JkZjpSREY+IDwveDp4bXBtZXRhPiA8P3hwYWNrZXQgZW5kPSJyIj8+84NovQAAAR1JREFUeNpiZEADy85ZJgCpeCB2QJM6AMQLo4yOL0AWZETSqACk1gOxAQN+cAGIA4EGPQBxmJA0nwdpjjQ8xqArmczw5tMHXAaALDgP1QMxAGqzAAPxQACqh4ER6uf5MBlkm0X4EGayMfMw/Pr7Bd2gRBZogMFBrv01hisv5jLsv9nLAPIOMnjy8RDDyYctyAbFM2EJbRQw+aAWw/LzVgx7b+cwCHKqMhjJFCBLOzAR6+lXX84xnHjYyqAo5IUizkRCwIENQQckGSDGY4TVgAPEaraQr2a4/24bSuoExcJCfAEJihXkWDj3ZAKy9EJGaEo8T0QSxkjSwORsCAuDQCD+QILmD1A9kECEZgxDaEZhICIzGcIyEyOl2RkgwAAhkmC+eAm0TAAAAABJRU5ErkJggg==)](https://orcid.org/0000-0002-3193-8590) (Department of Neurology, Wake Forest University School of Medicine)  \n",
    "Matt Jaffa (Department of Neurology, University of Connecticut School of Medicine)  \n",
    "Rahul Karamchandani (Department of Neurology, Wake Forest University School of Medicine)  \n",
    "Andrew Asimos (Department of Emergency Medicine, Wake Forest University School of Medicine)  \n",
    "Jonathan Parish (Carolina Neurosurgery & Spine Associates)  \n",
    "Nicholas Allen Morris (Department of Neurology, University of Maryland School of Medicine)  \n",
    "May 2, 2024\n",
    "\n",
    "Hemispheric laterality blah blah blah"
   ],
   "id": "45aa3aa1-e806-44fb-88ae-d3ac13baf12e"
  },
  {
   "cell_type": "code",
   "execution_count": null,
   "metadata": {},
   "outputs": [
    {
     "output_type": "stream",
     "name": "stderr",
     "text": [
      "── Attaching core tidyverse packages ──────────────────────── tidyverse 2.0.0 ──\n",
      "✔ dplyr     1.1.4     ✔ readr     2.1.5\n",
      "✔ forcats   1.0.0     ✔ stringr   1.5.1\n",
      "✔ ggplot2   3.5.1     ✔ tibble    3.2.1\n",
      "✔ lubridate 1.9.3     ✔ tidyr     1.3.1\n",
      "✔ purrr     1.0.2     \n",
      "── Conflicts ────────────────────────────────────────── tidyverse_conflicts() ──\n",
      "✖ dplyr::filter() masks stats::filter()\n",
      "✖ dplyr::lag()    masks stats::lag()\n",
      "ℹ Use the conflicted package (<http://conflicted.r-lib.org/>) to force all conflicts to become errors"
     ]
    },
    {
     "output_type": "stream",
     "name": "stderr",
     "text": [
      "here() starts at /home/nikhil/Documents/GitHub/ich-laterality"
     ]
    },
    {
     "output_type": "stream",
     "name": "stderr",
     "text": [
      "\n",
      "Attaching package: 'gt'\n",
      "\n",
      "The following object is masked from 'package:formattable':\n",
      "\n",
      "    currency"
     ]
    },
    {
     "output_type": "stream",
     "name": "stderr",
     "text": [
      "#Uighur"
     ]
    },
    {
     "output_type": "stream",
     "name": "stderr",
     "text": [
      "`modelsummary` 2.0.0 now uses `tinytable` as its default table-drawing\n",
      "  backend. Learn more at: https://vincentarelbundock.github.io/tinytable/\n",
      "\n",
      "Revert to `kableExtra` for one session:\n",
      "\n",
      "  options(modelsummary_factory_default = 'kableExtra')\n",
      "\n",
      "Change the default backend persistently:\n",
      "\n",
      "  config_modelsummary(factory_default = 'gt')\n",
      "\n",
      "Silence this message forever:\n",
      "\n",
      "  config_modelsummary(startup_message = FALSE)"
     ]
    },
    {
     "output_type": "stream",
     "name": "stderr",
     "text": [
      "This is bayesplot version 1.11.1\n",
      "- Online documentation and vignettes at mc-stan.org/bayesplot\n",
      "- bayesplot theme set to bayesplot::theme_default()\n",
      "   * Does _not_ affect other ggplot2 plots\n",
      "   * See ?bayesplot_theme_set for details on theme setting"
     ]
    },
    {
     "output_type": "stream",
     "name": "stderr",
     "text": [
      "\n",
      "Attaching package: 'patchwork'\n",
      "\n",
      "The following object is masked from 'package:formattable':\n",
      "\n",
      "    area"
     ]
    },
    {
     "output_type": "stream",
     "name": "stderr",
     "text": [
      "\n",
      "Attaching package: 'flextable'\n",
      "\n",
      "The following objects are masked from 'package:gtsummary':\n",
      "\n",
      "    as_flextable, continuous_summary\n",
      "\n",
      "The following object is masked from 'package:formattable':\n",
      "\n",
      "    style\n",
      "\n",
      "The following object is masked from 'package:purrr':\n",
      "\n",
      "    compose"
     ]
    }
   ],
   "source": [
    "library(targets)\n",
    "library(tidyverse)"
   ],
   "id": "cc500f70-6a59-483e-9aa0-389c71384883"
  },
  {
   "cell_type": "markdown",
   "metadata": {},
   "source": [
    "## Introduction\n",
    "\n",
    "The clinical presentation of patients with stroke can vary based on the hemisphere affected, in particular with language, spatial orientation, and emotional processing. Previous research involving patients with ischemic stroke provide evidence that those with right hemispheric injury present later to the hospital and may not be treated as frequently with thrombolytic therapy.\\[@legge_neglecting_2006; @di_legge_impact_2005\\] On the other hand, there is a hesitation among some practitioners to offer decompressive craniectomy in patients with dominant-hemispheric infarcts. \\[@lin_decompressive_2021-1\\]\n",
    "\n",
    "It is unclear how previous research in the ischemic stroke population translates to patients experiencing intracerebral hemorrhage. Not much has been investigated.\n",
    "\n",
    "We aimed to evaluate the effect of hemispheric lateralization on the probability of receiving aggressive care in patients with ICH.\n",
    "\n",
    "## Methods\n",
    "\n",
    "### Study Design and Participants\n",
    "\n",
    "We conducted a cohort study using data from 2 prospective studies: the Antihypertensive Treatment of Acute Cerebral Hemorrhage II (ATACH-2) trial \\[@qureshi_intensive_2016\\] and the Ethnic/Racial Variations of Intracerebral Hemorrhage (ERICH)\\[@woo_ethnicracial_2013\\] study. ATACH-2 was a large, multicenter, international, open-label, blinded-endpoint randomized controlled trial enrolling 1000 patients with ICH while ERICH was a large, multicenter, prospective observational study enrolling patients in the United States admitted with ICH. Study protocols and results of both studies have been previously published and are available elsewhere.\n",
    "\n",
    "We included all patients enrolled in these two studies with supratentorial location of ICH. We excluded patients with cerebellar or brainstem ICH as well as any patient with primary intraventricular hemorrhage (IVH).\n",
    "\n",
    "The study was approved by the institutional review board of the Wake Forest School of Medicine.\n",
    "\n",
    "#### Data Availability Statement\n",
    "\n",
    "The ATACH-2 (PI: Adnan I. Qureshi, MD, NCT01176565) and ERICH (PI: Daniel Woo, MD, MS, NCT01202864) data and analyses presented in this manuscript are based on the research files downloaded from the Archived Clinical Research web site of the National Institute of Neurologic Disease and Stroke (NINDS). The datasets can be obtained after approval of a written proposal as outlined on the NINDS website.\n",
    "\n",
    "As outlined in the NINDS Data Request Agreement, the analysis code is publicly available at <https://github.com/nikhilpatelmd/ich-laterality>.\n",
    "\n",
    "### Exposures and Outcomes\n",
    "\n",
    "Our exposure was hemispheric laterality (left versus right). Our primary outcome was neurosurgical intervention, defined as receiving a hematoma evacuation, decompressive craniectomy, or other craniotomy.\n",
    "\n",
    "To explore differences in other aspects of aggressive care, we defined several secondary outcomes: receipt of external ventricular drain (EVD), tracheostomy, percutaneous endoscopic gastrostomy (PEG) tube, do-not-resuscitate (DNR) order at any point in the hospitalization, withdrawal of life-sustaining therapy (WLST) at any point in the hospitalization, and early WLST (\\< 72 from symptom onset).\n",
    "\n",
    "### Statistical Analysis\n",
    "\n",
    "#### Overall Analysis Plan\n",
    "\n",
    "## Results\n",
    "\n",
    "### Baseline Characteristics\n",
    "\n",
    "A total of 3477 patients were included in the analysis, of which 1720 (49.5%) had left hemispheric ICH. They had higher NIHSS scores, higher GCS scores, and lower rates of hypertension as compared to those with right hemispheric ICH (@tbl-1).\n",
    "\n",
    "``` r\n",
    "# with_dir(here(), tar_read(table_1_aggressive)) |>\n",
    "#   as_flex_table() |>\n",
    "#   font(part = \"all\", fontname = \"Figtree\") |>\n",
    "#   fontsize(size = 11, part = \"header\") |>\n",
    "#   fontsize(size = 10) |>\n",
    "#   theme_zebra() |>\n",
    "#   line_spacing(space = 1.25, part = \"all\") |>\n",
    "#   padding(padding = 4, part = \"all\")\n",
    "```\n",
    "\n",
    "### Left hemispheric ICH and neurosurgical intervention\n",
    "\n",
    "``` r\n",
    "summary <- modelsummary(models,\n",
    "  exponentiate = TRUE,\n",
    "  fmt = 2,\n",
    "  estimate = \"{estimate}\",\n",
    "  statistic = \"{conf.low} - {conf.high}\",\n",
    "  coef_omit = \"^(?!b_ich_lat)\",\n",
    "  coef_rename = c(\"b_ich_lateralityRight\" = \"Right Hemisphere ICH\"),\n",
    "  gof_map = c(\"none\")\n",
    ")\n",
    "```\n",
    "\n",
    "### Left hemispheric ICH and other measures of aggressive care\n",
    "\n",
    "### Subgroup analyses\n",
    "\n",
    "### Sensitivity analyses\n",
    "\n",
    "## Discussion\n",
    "\n",
    "Hello\n",
    "\n",
    "## Acknowledgments\n",
    "\n",
    "## References"
   ],
   "id": "e6e8cb51-4101-45b6-83f0-7c5948bc11df"
  }
 ],
 "nbformat": 4,
 "nbformat_minor": 5,
 "metadata": {}
}
