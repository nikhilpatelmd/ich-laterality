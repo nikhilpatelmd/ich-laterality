{
 "cells": [
  {
   "cell_type": "markdown",
   "metadata": {},
   "source": [
    "# Patients with Left Hemispheric Intracerebral Hemorrhage are Less\n",
    "\n",
    "Likely to Receive Neurosurgical Intervention\n",
    "\n",
    "A Bayesian Analysis of ATACH-2 and ERICH\n",
    "\n",
    "Nikhil Patel [![](data:image/png;base64,iVBORw0KGgoAAAANSUhEUgAAABAAAAAQCAYAAAAf8/9hAAAAGXRFWHRTb2Z0d2FyZQBBZG9iZSBJbWFnZVJlYWR5ccllPAAAA2ZpVFh0WE1MOmNvbS5hZG9iZS54bXAAAAAAADw/eHBhY2tldCBiZWdpbj0i77u/IiBpZD0iVzVNME1wQ2VoaUh6cmVTek5UY3prYzlkIj8+IDx4OnhtcG1ldGEgeG1sbnM6eD0iYWRvYmU6bnM6bWV0YS8iIHg6eG1wdGs9IkFkb2JlIFhNUCBDb3JlIDUuMC1jMDYwIDYxLjEzNDc3NywgMjAxMC8wMi8xMi0xNzozMjowMCAgICAgICAgIj4gPHJkZjpSREYgeG1sbnM6cmRmPSJodHRwOi8vd3d3LnczLm9yZy8xOTk5LzAyLzIyLXJkZi1zeW50YXgtbnMjIj4gPHJkZjpEZXNjcmlwdGlvbiByZGY6YWJvdXQ9IiIgeG1sbnM6eG1wTU09Imh0dHA6Ly9ucy5hZG9iZS5jb20veGFwLzEuMC9tbS8iIHhtbG5zOnN0UmVmPSJodHRwOi8vbnMuYWRvYmUuY29tL3hhcC8xLjAvc1R5cGUvUmVzb3VyY2VSZWYjIiB4bWxuczp4bXA9Imh0dHA6Ly9ucy5hZG9iZS5jb20veGFwLzEuMC8iIHhtcE1NOk9yaWdpbmFsRG9jdW1lbnRJRD0ieG1wLmRpZDo1N0NEMjA4MDI1MjA2ODExOTk0QzkzNTEzRjZEQTg1NyIgeG1wTU06RG9jdW1lbnRJRD0ieG1wLmRpZDozM0NDOEJGNEZGNTcxMUUxODdBOEVCODg2RjdCQ0QwOSIgeG1wTU06SW5zdGFuY2VJRD0ieG1wLmlpZDozM0NDOEJGM0ZGNTcxMUUxODdBOEVCODg2RjdCQ0QwOSIgeG1wOkNyZWF0b3JUb29sPSJBZG9iZSBQaG90b3Nob3AgQ1M1IE1hY2ludG9zaCI+IDx4bXBNTTpEZXJpdmVkRnJvbSBzdFJlZjppbnN0YW5jZUlEPSJ4bXAuaWlkOkZDN0YxMTc0MDcyMDY4MTE5NUZFRDc5MUM2MUUwNEREIiBzdFJlZjpkb2N1bWVudElEPSJ4bXAuZGlkOjU3Q0QyMDgwMjUyMDY4MTE5OTRDOTM1MTNGNkRBODU3Ii8+IDwvcmRmOkRlc2NyaXB0aW9uPiA8L3JkZjpSREY+IDwveDp4bXBtZXRhPiA8P3hwYWNrZXQgZW5kPSJyIj8+84NovQAAAR1JREFUeNpiZEADy85ZJgCpeCB2QJM6AMQLo4yOL0AWZETSqACk1gOxAQN+cAGIA4EGPQBxmJA0nwdpjjQ8xqArmczw5tMHXAaALDgP1QMxAGqzAAPxQACqh4ER6uf5MBlkm0X4EGayMfMw/Pr7Bd2gRBZogMFBrv01hisv5jLsv9nLAPIOMnjy8RDDyYctyAbFM2EJbRQw+aAWw/LzVgx7b+cwCHKqMhjJFCBLOzAR6+lXX84xnHjYyqAo5IUizkRCwIENQQckGSDGY4TVgAPEaraQr2a4/24bSuoExcJCfAEJihXkWDj3ZAKy9EJGaEo8T0QSxkjSwORsCAuDQCD+QILmD1A9kECEZgxDaEZhICIzGcIyEyOl2RkgwAAhkmC+eAm0TAAAAABJRU5ErkJggg==)](https://orcid.org/0000-0002-3193-8590) (Department of Neurology, Wake Forest University School of Medicine)  \n",
    "Matt Jaffa (Department of Neurology, University of Connecticut School of Medicine)  \n",
    "Rahul Karamchandani (Department of Neurology, Wake Forest University School of Medicine)  \n",
    "Andrew Asimos (Department of Emergency Medicine, Wake Forest University School of Medicine)  \n",
    "Jonathan Parish (Carolina Neurosurgery & Spine Associates)  \n",
    "Nicholas Allen Morris (Department of Neurology, University of Maryland School of Medicine)  \n",
    "May 2, 2024\n",
    "\n",
    "Hemispheric laterality blah blah blah"
   ],
   "id": "3a5e95f7-a9c5-4ee4-89fe-8ca426be9cdb"
  },
  {
   "cell_type": "code",
   "execution_count": null,
   "metadata": {},
   "outputs": [
    {
     "output_type": "stream",
     "name": "stderr",
     "text": [
      "── Attaching core tidyverse packages ──────────────────────── tidyverse 2.0.0 ──\n",
      "✔ dplyr     1.1.4     ✔ readr     2.1.5\n",
      "✔ forcats   1.0.0     ✔ stringr   1.5.1\n",
      "✔ ggplot2   3.5.1     ✔ tibble    3.2.1\n",
      "✔ lubridate 1.9.3     ✔ tidyr     1.3.1\n",
      "✔ purrr     1.0.2     \n",
      "── Conflicts ────────────────────────────────────────── tidyverse_conflicts() ──\n",
      "✖ dplyr::filter() masks stats::filter()\n",
      "✖ dplyr::lag()    masks stats::lag()\n",
      "ℹ Use the conflicted package (<http://conflicted.r-lib.org/>) to force all conflicts to become errors"
     ]
    },
    {
     "output_type": "stream",
     "name": "stderr",
     "text": [
      "here() starts at /home/nikhil/Documents/GitHub/ich-laterality"
     ]
    },
    {
     "output_type": "stream",
     "name": "stderr",
     "text": [
      "\n",
      "Attaching package: 'gt'\n",
      "\n",
      "The following object is masked from 'package:formattable':\n",
      "\n",
      "    currency"
     ]
    },
    {
     "output_type": "stream",
     "name": "stderr",
     "text": [
      "#Uighur"
     ]
    },
    {
     "output_type": "stream",
     "name": "stderr",
     "text": [
      "`modelsummary` 2.0.0 now uses `tinytable` as its default table-drawing\n",
      "  backend. Learn more at: https://vincentarelbundock.github.io/tinytable/\n",
      "\n",
      "Revert to `kableExtra` for one session:\n",
      "\n",
      "  options(modelsummary_factory_default = 'kableExtra')\n",
      "\n",
      "Change the default backend persistently:\n",
      "\n",
      "  config_modelsummary(factory_default = 'gt')\n",
      "\n",
      "Silence this message forever:\n",
      "\n",
      "  config_modelsummary(startup_message = FALSE)"
     ]
    },
    {
     "output_type": "stream",
     "name": "stderr",
     "text": [
      "This is bayesplot version 1.11.1\n",
      "- Online documentation and vignettes at mc-stan.org/bayesplot\n",
      "- bayesplot theme set to bayesplot::theme_default()\n",
      "   * Does _not_ affect other ggplot2 plots\n",
      "   * See ?bayesplot_theme_set for details on theme setting"
     ]
    },
    {
     "output_type": "stream",
     "name": "stderr",
     "text": [
      "\n",
      "Attaching package: 'patchwork'\n",
      "\n",
      "The following object is masked from 'package:formattable':\n",
      "\n",
      "    area"
     ]
    },
    {
     "output_type": "stream",
     "name": "stderr",
     "text": [
      "\n",
      "Attaching package: 'flextable'\n",
      "\n",
      "The following objects are masked from 'package:gtsummary':\n",
      "\n",
      "    as_flextable, continuous_summary\n",
      "\n",
      "The following object is masked from 'package:formattable':\n",
      "\n",
      "    style\n",
      "\n",
      "The following object is masked from 'package:purrr':\n",
      "\n",
      "    compose"
     ]
    }
   ],
   "source": [
    "library(targets)\n",
    "library(tidyverse)"
   ],
   "id": "7fe38a71-e613-4029-8d89-696a020506e1"
  },
  {
   "cell_type": "markdown",
   "metadata": {},
   "source": [
    "## Introduction\n",
    "\n",
    "The clinical presentation of patients with stroke can vary based on the hemisphere affected, in particular with language, spatial orientation, and emotional processing. Previous research involving patients with ischemic stroke provide evidence that those with right hemispheric injury present later to the hospital and may not be treated as frequently with thrombolytic therapy.<sup>[1](#ref-legge_neglecting_2006),[2](#ref-di_legge_impact_2005)</sup> On the other hand, there is a hesitation among some practitioners to offer decompressive craniectomy in patients with dominant-hemispheric infarcts.<sup>[3](#ref-lin_decompressive_2021-1)</sup>\n",
    "\n",
    "It is unclear how previous research in the ischemic stroke population translates to patients experiencing intracerebral hemorrhage. Not much has been investigated.\n",
    "\n",
    "We aimed to evaluate the effect of hemispheric lateralization on the probability of receiving aggressive care in patients with ICH.\n",
    "\n",
    "## Methods\n",
    "\n",
    "### Study Design and Participants\n",
    "\n",
    "We conducted a cohort study using data from 2 prospective studies: the Antihypertensive Treatment of Acute Cerebral Hemorrhage II (ATACH-2) trial<sup>[4](#ref-qureshi_intensive_2016)</sup> and the Ethnic/Racial Variations of Intracerebral Hemorrhage (ERICH)<sup>[5](#ref-woo_ethnicracial_2013)</sup> study. ATACH-2 was a large, multicenter, international, open-label, blinded-endpoint randomized controlled trial enrolling 1000 patients with ICH while ERICH was a large, multicenter, prospective observational study enrolling patients in the United States admitted with ICH. Study protocols and results of both studies have been previously published and are available elsewhere.\n",
    "\n",
    "We included all patients enrolled in these two studies with supratentorial location of ICH. We excluded patients with cerebellar or brainstem ICH as well as any patient with primary intraventricular hemorrhage (IVH).\n",
    "\n",
    "The study was approved by the institutional review board of the Wake Forest School of Medicine.\n",
    "\n",
    "#### Data Availability Statement\n",
    "\n",
    "The ATACH-2 (PI: Adnan I. Qureshi, MD, NCT01176565) and ERICH (PI: Daniel Woo, MD, MS, NCT01202864) data and analyses presented in this manuscript are based on the research files downloaded from the Archived Clinical Research web site of the National Institute of Neurologic Disease and Stroke (NINDS). The datasets can be obtained after approval of a written proposal as outlined on the NINDS website.\n",
    "\n",
    "As outlined in the NINDS Data Request Agreement, the analysis code is publicly available at <https://github.com/nikhilpatelmd/ich-laterality>.\n",
    "\n",
    "### Exposures and Outcomes\n",
    "\n",
    "Our exposure was hemispheric laterality (left versus right). Our primary outcome was neurosurgical intervention, defined as receiving a hematoma evacuation, decompressive craniectomy, or other craniotomy.\n",
    "\n",
    "To explore differences in other aspects of aggressive care, we defined several secondary outcomes: receipt of external ventricular drain (EVD), tracheostomy, percutaneous endoscopic gastrostomy (PEG) tube, do-not-resuscitate (DNR) order at any point in the hospitalization, withdrawal of life-sustaining therapy (WLST) at any point in the hospitalization, and early WLST (\\< 72 from symptom onset).\n",
    "\n",
    "### Statistical Analysis\n",
    "\n",
    "#### Overall Analysis Plan\n",
    "\n",
    "## Results\n",
    "\n",
    "### Baseline Characteristics\n",
    "\n",
    "A total of 3477 patients were included in the analysis, of which 1720 (49.5%) had left hemispheric ICH. They had higher NIHSS scores, higher GCS scores, and lower rates of hypertension as compared to those with right hemispheric ICH (<a href=\"#tbl-1\" class=\"quarto-xref\">Table 1</a>).\n",
    "\n",
    "``` r\n",
    "# with_dir(here(), tar_read(table_1_aggressive)) |>\n",
    "#   as_flex_table() |>\n",
    "#   font(part = \"all\", fontname = \"Figtree\") |>\n",
    "#   fontsize(size = 11, part = \"header\") |>\n",
    "#   fontsize(size = 10) |>\n",
    "#   theme_zebra() |>\n",
    "#   line_spacing(space = 1.25, part = \"all\") |>\n",
    "#   padding(padding = 4, part = \"all\")\n",
    "```\n",
    "\n",
    "Table 1: Baseline Characteristics\n",
    "\n",
    "### Left hemispheric ICH and neurosurgical intervention\n",
    "\n",
    "``` r\n",
    "summary <- modelsummary(models,\n",
    "  exponentiate = TRUE,\n",
    "  fmt = 2,\n",
    "  estimate = \"{estimate}\",\n",
    "  statistic = \"{conf.low} - {conf.high}\",\n",
    "  coef_omit = \"^(?!b_ich_lat)\",\n",
    "  coef_rename = c(\"b_ich_lateralityRight\" = \"Right Hemisphere ICH\"),\n",
    "  gof_map = c(\"none\")\n",
    ")\n",
    "```\n",
    "\n",
    "Table 2: Association between hemispheric lateralization and care\n",
    "\n",
    "### Left hemispheric ICH and other measures of aggressive care\n",
    "\n",
    "### Subgroup analyses\n",
    "\n",
    "### Sensitivity analyses\n",
    "\n",
    "## Discussion\n",
    "\n",
    "Hello\n",
    "\n",
    "## Acknowledgments\n",
    "\n",
    "## References\n",
    "\n",
    "<span class=\"csl-left-margin\">1. </span><span class=\"csl-right-inline\">Legge SD, Saposnik G, Nilanont Y, Hachinski V. [Neglecting the Difference](https://doi.org/10.1161/01.STR.0000229899.66019.62). *Stroke*. 2006;37(8):2066–2069.</span>\n",
    "\n",
    "<span class=\"csl-left-margin\">2. </span><span class=\"csl-right-inline\">Di Legge S, Fang J, Saposnik G, Hachinski V. [The impact of lesion side on acute stroke treatment](https://doi.org/10.1212/01.wnl.0000167608.94237.aa). *Neurology*. 2005;65(1):81–86.</span>\n",
    "\n",
    "<span class=\"csl-left-margin\">3. </span><span class=\"csl-right-inline\">Lin J, Frontera JA. [Decompressive Hemicraniectomy for Large Hemispheric Strokes](https://doi.org/10.1161/STROKEAHA.120.032359). *Stroke*. 2021;52(4):1500–1510.</span>\n",
    "\n",
    "<span class=\"csl-left-margin\">4. </span><span class=\"csl-right-inline\">Qureshi AI, Palesch YY, Barsan WG, Hanley DF, Hsu CY, Martin RL, Moy CS, Silbergleit R, Steiner T, Suarez JI, Toyoda K, Wang Y, Yamamoto H, Yoon B-W. [Intensive Blood-Pressure Lowering in Patients with Acute Cerebral Hemorrhage](https://doi.org/10.1056/NEJMoa1603460). *New England Journal of Medicine*. 2016;375(11):1033–1043.</span>\n",
    "\n",
    "<span class=\"csl-left-margin\">5. </span><span class=\"csl-right-inline\">Woo D, Rosand J, Kidwell C, McCauley JL, Osborne J, Brown MW, West SE, Rademacher EW, Waddy S, Roberts JN, Koch S, Gonzales NR, Sung G, Kittner SJ, Birnbaum L, et al. [The Ethnic/Racial Variations of Intracerebral Hemorrhage (ERICH) Study Protocol](https://doi.org/10.1161/STROKEAHA.113.002332). *Stroke*. 2013;44(10).</span>"
   ],
   "id": "7c0ff0dc-3e7e-4268-9472-d0ddc8f3f775"
  }
 ],
 "nbformat": 4,
 "nbformat_minor": 5,
 "metadata": {}
}
